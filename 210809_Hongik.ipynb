{
  "nbformat": 4,
  "nbformat_minor": 0,
  "metadata": {
    "colab": {
      "name": "210809_Hongik.ipynb",
      "provenance": [],
      "collapsed_sections": []
    },
    "kernelspec": {
      "name": "python3",
      "display_name": "Python 3"
    },
    "language_info": {
      "name": "python"
    }
  },
  "cells": [
    {
      "cell_type": "code",
      "metadata": {
        "colab": {
          "base_uri": "https://localhost:8080/"
        },
        "id": "PWgIwo4EGVds",
        "outputId": "e901f49c-9e75-4357-f475-9c9c00326feb"
      },
      "source": [
        "a = 5 # a에다가 5를 넣어라\n",
        "print(a)"
      ],
      "execution_count": null,
      "outputs": [
        {
          "output_type": "stream",
          "text": [
            "5\n"
          ],
          "name": "stdout"
        }
      ]
    },
    {
      "cell_type": "code",
      "metadata": {
        "colab": {
          "base_uri": "https://localhost:8080/"
        },
        "id": "cZBUW0_nG-Ly",
        "outputId": "976443cf-16ba-40a3-f00a-884a043b78e8"
      },
      "source": [
        "a = 3\n",
        "b = 5\n",
        "a + b"
      ],
      "execution_count": 2,
      "outputs": [
        {
          "output_type": "execute_result",
          "data": {
            "text/plain": [
              "8"
            ]
          },
          "metadata": {
            "tags": []
          },
          "execution_count": 2
        }
      ]
    },
    {
      "cell_type": "code",
      "metadata": {
        "colab": {
          "base_uri": "https://localhost:8080/"
        },
        "id": "xnvybAEmHJRg",
        "outputId": "99026020-055c-4c76-b29c-880ea8cf9cb1"
      },
      "source": [
        "7 // 3 # 몫"
      ],
      "execution_count": null,
      "outputs": [
        {
          "output_type": "execute_result",
          "data": {
            "text/plain": [
              "2"
            ]
          },
          "metadata": {
            "tags": []
          },
          "execution_count": 3
        }
      ]
    },
    {
      "cell_type": "code",
      "metadata": {
        "colab": {
          "base_uri": "https://localhost:8080/"
        },
        "id": "o_KnvHX7HyDk",
        "outputId": "4253b3f5-71db-4a03-df5c-74a9fd8f9eff"
      },
      "source": [
        "7 % 3 # 나머지"
      ],
      "execution_count": null,
      "outputs": [
        {
          "output_type": "execute_result",
          "data": {
            "text/plain": [
              "1"
            ]
          },
          "metadata": {
            "tags": []
          },
          "execution_count": 4
        }
      ]
    },
    {
      "cell_type": "code",
      "metadata": {
        "colab": {
          "base_uri": "https://localhost:8080/"
        },
        "id": "jJrQQK8yH2IX",
        "outputId": "9ee2ff3b-4ff3-4771-a937-a49f868163f0"
      },
      "source": [
        "a ** b # 제곱"
      ],
      "execution_count": 3,
      "outputs": [
        {
          "output_type": "execute_result",
          "data": {
            "text/plain": [
              "243"
            ]
          },
          "metadata": {
            "tags": []
          },
          "execution_count": 3
        }
      ]
    },
    {
      "cell_type": "code",
      "metadata": {
        "colab": {
          "base_uri": "https://localhost:8080/",
          "height": 35
        },
        "id": "kjSyMiw6H6BU",
        "outputId": "c209f8b2-ce1a-46e9-ff0c-3cc9095174ab"
      },
      "source": [
        "# 문자열 자료형 : 클래스\n",
        "# 클래스 : 함수들을 모아놓은 주머니\n",
        "\n",
        "a = 'python'\n",
        "a"
      ],
      "execution_count": null,
      "outputs": [
        {
          "output_type": "execute_result",
          "data": {
            "application/vnd.google.colaboratory.intrinsic+json": {
              "type": "string"
            },
            "text/plain": [
              "'python'"
            ]
          },
          "metadata": {
            "tags": []
          },
          "execution_count": 7
        }
      ]
    },
    {
      "cell_type": "code",
      "metadata": {
        "colab": {
          "base_uri": "https://localhost:8080/",
          "height": 35
        },
        "id": "cRBLbqSyFXYs",
        "outputId": "557282c1-2077-4677-ad75-29fa2761102e"
      },
      "source": [
        "a = 'python'\n",
        "b = ' is too fun'\n",
        "a + b"
      ],
      "execution_count": 5,
      "outputs": [
        {
          "output_type": "execute_result",
          "data": {
            "application/vnd.google.colaboratory.intrinsic+json": {
              "type": "string"
            },
            "text/plain": [
              "'python is too fun'"
            ]
          },
          "metadata": {
            "tags": []
          },
          "execution_count": 5
        }
      ]
    },
    {
      "cell_type": "code",
      "metadata": {
        "colab": {
          "base_uri": "https://localhost:8080/"
        },
        "id": "2nKVFGR8FpO_",
        "outputId": "cafe6a41-fa17-4deb-84ba-ca07ae8d8e67"
      },
      "source": [
        "len(a)  # 문자열 a 의 길이"
      ],
      "execution_count": 6,
      "outputs": [
        {
          "output_type": "execute_result",
          "data": {
            "text/plain": [
              "6"
            ]
          },
          "metadata": {
            "tags": []
          },
          "execution_count": 6
        }
      ]
    },
    {
      "cell_type": "code",
      "metadata": {
        "colab": {
          "base_uri": "https://localhost:8080/",
          "height": 35
        },
        "id": "L7UdfPMLFvnH",
        "outputId": "dd7cf3c5-7f9b-4a4a-cdc9-611cc614b4a1"
      },
      "source": [
        "a[0]"
      ],
      "execution_count": 7,
      "outputs": [
        {
          "output_type": "execute_result",
          "data": {
            "application/vnd.google.colaboratory.intrinsic+json": {
              "type": "string"
            },
            "text/plain": [
              "'p'"
            ]
          },
          "metadata": {
            "tags": []
          },
          "execution_count": 7
        }
      ]
    },
    {
      "cell_type": "code",
      "metadata": {
        "colab": {
          "base_uri": "https://localhost:8080/",
          "height": 35
        },
        "id": "y3SIeHk_F2JI",
        "outputId": "e3519570-d3c8-4a77-b2de-2de6f0f5e1de"
      },
      "source": [
        "a[1:3]  # 1번째부터 3번째 전까지"
      ],
      "execution_count": 8,
      "outputs": [
        {
          "output_type": "execute_result",
          "data": {
            "application/vnd.google.colaboratory.intrinsic+json": {
              "type": "string"
            },
            "text/plain": [
              "'yt'"
            ]
          },
          "metadata": {
            "tags": []
          },
          "execution_count": 8
        }
      ]
    },
    {
      "cell_type": "code",
      "metadata": {
        "colab": {
          "base_uri": "https://localhost:8080/",
          "height": 35
        },
        "id": "hrzcOrdEF8qp",
        "outputId": "bfb7be41-0bb7-4e76-e736-38a6c41beddd"
      },
      "source": [
        "a[:5] # 0번째부터 5번째 전까지"
      ],
      "execution_count": 9,
      "outputs": [
        {
          "output_type": "execute_result",
          "data": {
            "application/vnd.google.colaboratory.intrinsic+json": {
              "type": "string"
            },
            "text/plain": [
              "'pytho'"
            ]
          },
          "metadata": {
            "tags": []
          },
          "execution_count": 9
        }
      ]
    },
    {
      "cell_type": "code",
      "metadata": {
        "colab": {
          "base_uri": "https://localhost:8080/",
          "height": 35
        },
        "id": "9b3n-O5AGEkZ",
        "outputId": "df1c9955-4f48-4380-de2a-59b07c8a600d"
      },
      "source": [
        "# 문자열 : 클래스 == 함수들을 모아놓은 주머니\n",
        "# 문자.함수이름\n",
        "\n",
        "'I eat {} apples'.format(3) # 중괄호 안에 포맷 함수로 값을 넣어줄 수 있음"
      ],
      "execution_count": 10,
      "outputs": [
        {
          "output_type": "execute_result",
          "data": {
            "application/vnd.google.colaboratory.intrinsic+json": {
              "type": "string"
            },
            "text/plain": [
              "'I eat 3 apples'"
            ]
          },
          "metadata": {
            "tags": []
          },
          "execution_count": 10
        }
      ]
    },
    {
      "cell_type": "code",
      "metadata": {
        "colab": {
          "base_uri": "https://localhost:8080/",
          "height": 35
        },
        "id": "dvjj8EJHGUYL",
        "outputId": "4ca90790-3049-463b-f75c-f140ae423ac0"
      },
      "source": [
        "'I eat {} apples and {} oranges'.format(3, 5)"
      ],
      "execution_count": 11,
      "outputs": [
        {
          "output_type": "execute_result",
          "data": {
            "application/vnd.google.colaboratory.intrinsic+json": {
              "type": "string"
            },
            "text/plain": [
              "'I eat 3 apples and 5 oranges'"
            ]
          },
          "metadata": {
            "tags": []
          },
          "execution_count": 11
        }
      ]
    },
    {
      "cell_type": "code",
      "metadata": {
        "colab": {
          "base_uri": "https://localhost:8080/",
          "height": 35
        },
        "id": "_EGF0xmnGY4R",
        "outputId": "58b4a083-350c-4d59-92d9-a5b8b2d78528"
      },
      "source": [
        "a = 3\n",
        "b = 5\n",
        "\n",
        "f'I eat {a} apples and {b} oranges' # .format()를 뒤에 쓰는 것 대신 앞에 f 붙여줌"
      ],
      "execution_count": 12,
      "outputs": [
        {
          "output_type": "execute_result",
          "data": {
            "application/vnd.google.colaboratory.intrinsic+json": {
              "type": "string"
            },
            "text/plain": [
              "'I eat 3 apples and 5 oranges'"
            ]
          },
          "metadata": {
            "tags": []
          },
          "execution_count": 12
        }
      ]
    },
    {
      "cell_type": "code",
      "metadata": {
        "colab": {
          "base_uri": "https://localhost:8080/"
        },
        "id": "9wKZ2bkrIEjV",
        "outputId": "f0b8d392-283d-41c6-8e10-7837be252b6a"
      },
      "source": [
        "a = 'hello world!'\n",
        "a.count('o')  # 해당 문자의 개수"
      ],
      "execution_count": null,
      "outputs": [
        {
          "output_type": "execute_result",
          "data": {
            "text/plain": [
              "2"
            ]
          },
          "metadata": {
            "tags": []
          },
          "execution_count": 8
        }
      ]
    },
    {
      "cell_type": "code",
      "metadata": {
        "colab": {
          "base_uri": "https://localhost:8080/"
        },
        "id": "kGxmEEE6MNdA",
        "outputId": "277dba4a-7305-448b-b942-4cb40264eebf"
      },
      "source": [
        "a.find('o') # 첫번째로 발견한 것의 위치"
      ],
      "execution_count": null,
      "outputs": [
        {
          "output_type": "execute_result",
          "data": {
            "text/plain": [
              "4"
            ]
          },
          "metadata": {
            "tags": []
          },
          "execution_count": 9
        }
      ]
    },
    {
      "cell_type": "code",
      "metadata": {
        "colab": {
          "base_uri": "https://localhost:8080/"
        },
        "id": "dyuZ9lzvMSF0",
        "outputId": "a052a901-e4ed-4620-e7b6-4f2849ad97d5"
      },
      "source": [
        "a.find('z') # 찾는 문자가 없으면 -1 출력"
      ],
      "execution_count": null,
      "outputs": [
        {
          "output_type": "execute_result",
          "data": {
            "text/plain": [
              "-1"
            ]
          },
          "metadata": {
            "tags": []
          },
          "execution_count": 10
        }
      ]
    },
    {
      "cell_type": "code",
      "metadata": {
        "colab": {
          "base_uri": "https://localhost:8080/",
          "height": 35
        },
        "id": "JKRoECzuMZGq",
        "outputId": "64de8221-d10f-4950-c450-52b6d229d2bc"
      },
      "source": [
        "a.upper() # 대문자로 변환"
      ],
      "execution_count": null,
      "outputs": [
        {
          "output_type": "execute_result",
          "data": {
            "application/vnd.google.colaboratory.intrinsic+json": {
              "type": "string"
            },
            "text/plain": [
              "'HELLO WORLD!'"
            ]
          },
          "metadata": {
            "tags": []
          },
          "execution_count": 11
        }
      ]
    },
    {
      "cell_type": "code",
      "metadata": {
        "colab": {
          "base_uri": "https://localhost:8080/",
          "height": 35
        },
        "id": "TXukb0qEMae_",
        "outputId": "541f8dd8-4e78-44e1-a33a-6a0fdf22e90c"
      },
      "source": [
        "a.lower() # 소문자로 변환"
      ],
      "execution_count": null,
      "outputs": [
        {
          "output_type": "execute_result",
          "data": {
            "application/vnd.google.colaboratory.intrinsic+json": {
              "type": "string"
            },
            "text/plain": [
              "'hello world!'"
            ]
          },
          "metadata": {
            "tags": []
          },
          "execution_count": 12
        }
      ]
    },
    {
      "cell_type": "code",
      "metadata": {
        "colab": {
          "base_uri": "https://localhost:8080/",
          "height": 35
        },
        "id": "1qf08ZT4MdIu",
        "outputId": "c9a3744f-f0e7-4816-8f9b-0ec5f093b832"
      },
      "source": [
        "'.'.join('abcd')"
      ],
      "execution_count": null,
      "outputs": [
        {
          "output_type": "execute_result",
          "data": {
            "application/vnd.google.colaboratory.intrinsic+json": {
              "type": "string"
            },
            "text/plain": [
              "'a.b.c.d'"
            ]
          },
          "metadata": {
            "tags": []
          },
          "execution_count": 13
        }
      ]
    },
    {
      "cell_type": "code",
      "metadata": {
        "colab": {
          "base_uri": "https://localhost:8080/",
          "height": 35
        },
        "id": "_Pr0vYDOMsw8",
        "outputId": "f9cbaed4-eaeb-4643-a56d-7d2eed6f961e"
      },
      "source": [
        "'@@'.join(['a','b','c','d'])"
      ],
      "execution_count": null,
      "outputs": [
        {
          "output_type": "execute_result",
          "data": {
            "application/vnd.google.colaboratory.intrinsic+json": {
              "type": "string"
            },
            "text/plain": [
              "'a@@b@@c@@d'"
            ]
          },
          "metadata": {
            "tags": []
          },
          "execution_count": 14
        }
      ]
    },
    {
      "cell_type": "code",
      "metadata": {
        "colab": {
          "base_uri": "https://localhost:8080/",
          "height": 35
        },
        "id": "qeFLyGVwMz1V",
        "outputId": "1b97ff45-830a-4b23-e353-3a654c7a2fd1"
      },
      "source": [
        "a = '     hello      '\n",
        "a.lstrip()"
      ],
      "execution_count": null,
      "outputs": [
        {
          "output_type": "execute_result",
          "data": {
            "application/vnd.google.colaboratory.intrinsic+json": {
              "type": "string"
            },
            "text/plain": [
              "'hello      '"
            ]
          },
          "metadata": {
            "tags": []
          },
          "execution_count": 16
        }
      ]
    },
    {
      "cell_type": "code",
      "metadata": {
        "colab": {
          "base_uri": "https://localhost:8080/",
          "height": 35
        },
        "id": "Ph5tBmPzNUdq",
        "outputId": "9439b99f-23f3-4310-b6c3-3852b506bfe6"
      },
      "source": [
        "a.rstrip()"
      ],
      "execution_count": null,
      "outputs": [
        {
          "output_type": "execute_result",
          "data": {
            "application/vnd.google.colaboratory.intrinsic+json": {
              "type": "string"
            },
            "text/plain": [
              "'     hello'"
            ]
          },
          "metadata": {
            "tags": []
          },
          "execution_count": 17
        }
      ]
    },
    {
      "cell_type": "code",
      "metadata": {
        "colab": {
          "base_uri": "https://localhost:8080/",
          "height": 35
        },
        "id": "7atMRCpeNcon",
        "outputId": "69ebf9bc-fa15-4020-deee-0551c2370ccb"
      },
      "source": [
        "a.strip()"
      ],
      "execution_count": null,
      "outputs": [
        {
          "output_type": "execute_result",
          "data": {
            "application/vnd.google.colaboratory.intrinsic+json": {
              "type": "string"
            },
            "text/plain": [
              "'hello'"
            ]
          },
          "metadata": {
            "tags": []
          },
          "execution_count": 18
        }
      ]
    },
    {
      "cell_type": "code",
      "metadata": {
        "colab": {
          "base_uri": "https://localhost:8080/",
          "height": 35
        },
        "id": "yQvNFECXNd6W",
        "outputId": "21a70cd7-6dca-41ca-befa-d73f7dc0a119"
      },
      "source": [
        "a = 'python is too fun'\n",
        "a"
      ],
      "execution_count": null,
      "outputs": [
        {
          "output_type": "execute_result",
          "data": {
            "application/vnd.google.colaboratory.intrinsic+json": {
              "type": "string"
            },
            "text/plain": [
              "'python is too fun'"
            ]
          },
          "metadata": {
            "tags": []
          },
          "execution_count": 19
        }
      ]
    },
    {
      "cell_type": "code",
      "metadata": {
        "colab": {
          "base_uri": "https://localhost:8080/",
          "height": 35
        },
        "id": "TX4Z-n_GNg-v",
        "outputId": "898f227e-4610-40ab-f183-30e4c3efa6ac"
      },
      "source": [
        "a.replace('python', 'java')\n",
        "# a.replace('뷃', '')"
      ],
      "execution_count": null,
      "outputs": [
        {
          "output_type": "execute_result",
          "data": {
            "application/vnd.google.colaboratory.intrinsic+json": {
              "type": "string"
            },
            "text/plain": [
              "'java is too fun'"
            ]
          },
          "metadata": {
            "tags": []
          },
          "execution_count": 20
        }
      ]
    },
    {
      "cell_type": "code",
      "metadata": {
        "colab": {
          "base_uri": "https://localhost:8080/"
        },
        "id": "cd7PvwBjNkxx",
        "outputId": "4b54f492-490a-4089-837d-b981d5a5d52d"
      },
      "source": [
        "a.split() # 공백을 기준으로 잘라서 리스트에 저장\n",
        "# 리스트 : 데이터를 저장하고 관리하는 기능"
      ],
      "execution_count": null,
      "outputs": [
        {
          "output_type": "execute_result",
          "data": {
            "text/plain": [
              "['python', 'is', 'too', 'fun']"
            ]
          },
          "metadata": {
            "tags": []
          },
          "execution_count": 21
        }
      ]
    },
    {
      "cell_type": "code",
      "metadata": {
        "id": "8Sw2mARYNr_m"
      },
      "source": [
        "# 리스트 : 클래스 == 함수들\n",
        "\n",
        "a = [1, 3, 5, 7, 9]"
      ],
      "execution_count": null,
      "outputs": []
    },
    {
      "cell_type": "code",
      "metadata": {
        "colab": {
          "base_uri": "https://localhost:8080/"
        },
        "id": "Ok9U7b5TOhUZ",
        "outputId": "7ae89103-09b6-4938-830f-5a732f36d4d9"
      },
      "source": [
        "a[0]"
      ],
      "execution_count": null,
      "outputs": [
        {
          "output_type": "execute_result",
          "data": {
            "text/plain": [
              "1"
            ]
          },
          "metadata": {
            "tags": []
          },
          "execution_count": 23
        }
      ]
    },
    {
      "cell_type": "code",
      "metadata": {
        "colab": {
          "base_uri": "https://localhost:8080/"
        },
        "id": "I17ltzTAOh2t",
        "outputId": "e099ef5c-dca0-4384-e915-0298af30c9f7"
      },
      "source": [
        "a[3]"
      ],
      "execution_count": null,
      "outputs": [
        {
          "output_type": "execute_result",
          "data": {
            "text/plain": [
              "7"
            ]
          },
          "metadata": {
            "tags": []
          },
          "execution_count": 24
        }
      ]
    },
    {
      "cell_type": "code",
      "metadata": {
        "colab": {
          "base_uri": "https://localhost:8080/"
        },
        "id": "7GnsfrH5OjCj",
        "outputId": "1cfe0e9d-20a5-4ea2-af6f-9eae6e59d3ab"
      },
      "source": [
        "a[-1]"
      ],
      "execution_count": null,
      "outputs": [
        {
          "output_type": "execute_result",
          "data": {
            "text/plain": [
              "9"
            ]
          },
          "metadata": {
            "tags": []
          },
          "execution_count": 25
        }
      ]
    },
    {
      "cell_type": "code",
      "metadata": {
        "colab": {
          "base_uri": "https://localhost:8080/"
        },
        "id": "pMGFgdOcOkUM",
        "outputId": "d8ad0f6e-c791-4d3a-8346-a4a5d8faa870"
      },
      "source": [
        "a[1:3]"
      ],
      "execution_count": null,
      "outputs": [
        {
          "output_type": "execute_result",
          "data": {
            "text/plain": [
              "[3, 5]"
            ]
          },
          "metadata": {
            "tags": []
          },
          "execution_count": 26
        }
      ]
    },
    {
      "cell_type": "code",
      "metadata": {
        "colab": {
          "base_uri": "https://localhost:8080/"
        },
        "id": "v0kq79jfOpTd",
        "outputId": "fe6bad15-6c93-4549-c35d-a0aedba40cfd"
      },
      "source": [
        "a = [1,2,3,[4,5]]\n",
        "# 퀴즈 : '4'만 출력해보세요\n",
        "\n",
        "a[3][0]"
      ],
      "execution_count": 14,
      "outputs": [
        {
          "output_type": "execute_result",
          "data": {
            "text/plain": [
              "4"
            ]
          },
          "metadata": {
            "tags": []
          },
          "execution_count": 14
        }
      ]
    },
    {
      "cell_type": "code",
      "metadata": {
        "colab": {
          "base_uri": "https://localhost:8080/"
        },
        "id": "xEcq_4dEHzyw",
        "outputId": "f7fb8c3b-c796-40b8-ad5e-7986cefc4195"
      },
      "source": [
        "a[1:]"
      ],
      "execution_count": 15,
      "outputs": [
        {
          "output_type": "execute_result",
          "data": {
            "text/plain": [
              "[2, 3, [4, 5]]"
            ]
          },
          "metadata": {
            "tags": []
          },
          "execution_count": 15
        }
      ]
    },
    {
      "cell_type": "code",
      "metadata": {
        "colab": {
          "base_uri": "https://localhost:8080/"
        },
        "id": "n70tyVg8Hzsh",
        "outputId": "070066e4-0f99-4b30-cbc8-e12efb051489"
      },
      "source": [
        "a = [1,2,3]\n",
        "b = [4,5,6]\n",
        "\n",
        "a + b"
      ],
      "execution_count": 16,
      "outputs": [
        {
          "output_type": "execute_result",
          "data": {
            "text/plain": [
              "[1, 2, 3, 4, 5, 6]"
            ]
          },
          "metadata": {
            "tags": []
          },
          "execution_count": 16
        }
      ]
    },
    {
      "cell_type": "code",
      "metadata": {
        "colab": {
          "base_uri": "https://localhost:8080/",
          "height": 169
        },
        "id": "cWySVaemHzhx",
        "outputId": "36312e13-c3df-47a7-923c-ac081f36c3e2"
      },
      "source": [
        "a - b"
      ],
      "execution_count": 18,
      "outputs": [
        {
          "output_type": "error",
          "ename": "TypeError",
          "evalue": "ignored",
          "traceback": [
            "\u001b[0;31m---------------------------------------------------------------------------\u001b[0m",
            "\u001b[0;31mTypeError\u001b[0m                                 Traceback (most recent call last)",
            "\u001b[0;32m<ipython-input-18-09bd029d0285>\u001b[0m in \u001b[0;36m<module>\u001b[0;34m()\u001b[0m\n\u001b[0;32m----> 1\u001b[0;31m \u001b[0ma\u001b[0m \u001b[0;34m-\u001b[0m \u001b[0mb\u001b[0m\u001b[0;34m\u001b[0m\u001b[0;34m\u001b[0m\u001b[0m\n\u001b[0m",
            "\u001b[0;31mTypeError\u001b[0m: unsupported operand type(s) for -: 'list' and 'list'"
          ]
        }
      ]
    },
    {
      "cell_type": "code",
      "metadata": {
        "colab": {
          "base_uri": "https://localhost:8080/"
        },
        "id": "xvZpct_dHzfE",
        "outputId": "738dad2c-77f1-4520-d9bf-22424c9ca247"
      },
      "source": [
        "a * 3"
      ],
      "execution_count": 19,
      "outputs": [
        {
          "output_type": "execute_result",
          "data": {
            "text/plain": [
              "[1, 2, 3, 1, 2, 3, 1, 2, 3]"
            ]
          },
          "metadata": {
            "tags": []
          },
          "execution_count": 19
        }
      ]
    },
    {
      "cell_type": "code",
      "metadata": {
        "colab": {
          "base_uri": "https://localhost:8080/"
        },
        "id": "UIanNUO2IC7o",
        "outputId": "19e37c2c-d38b-43a0-9af3-ea1cd1c83f90"
      },
      "source": [
        "len(a)"
      ],
      "execution_count": 20,
      "outputs": [
        {
          "output_type": "execute_result",
          "data": {
            "text/plain": [
              "3"
            ]
          },
          "metadata": {
            "tags": []
          },
          "execution_count": 20
        }
      ]
    },
    {
      "cell_type": "code",
      "metadata": {
        "colab": {
          "base_uri": "https://localhost:8080/"
        },
        "id": "tRs9hXNEIEc5",
        "outputId": "a497589a-1ee7-401a-a709-d4c89ff73961"
      },
      "source": [
        "# replace() : 문자열 함수, 리스트에서는 사용 불가\n",
        "\n",
        "a[1] = 7\n",
        "a"
      ],
      "execution_count": 21,
      "outputs": [
        {
          "output_type": "execute_result",
          "data": {
            "text/plain": [
              "[1, 7, 3]"
            ]
          },
          "metadata": {
            "tags": []
          },
          "execution_count": 21
        }
      ]
    },
    {
      "cell_type": "code",
      "metadata": {
        "colab": {
          "base_uri": "https://localhost:8080/"
        },
        "id": "xmOxV1-dIKO8",
        "outputId": "4db4e7fb-32aa-4a72-fac8-c31ad85049f9"
      },
      "source": [
        "del a[1]\n",
        "a[1]"
      ],
      "execution_count": 22,
      "outputs": [
        {
          "output_type": "execute_result",
          "data": {
            "text/plain": [
              "3"
            ]
          },
          "metadata": {
            "tags": []
          },
          "execution_count": 22
        }
      ]
    },
    {
      "cell_type": "code",
      "metadata": {
        "colab": {
          "base_uri": "https://localhost:8080/"
        },
        "id": "lFbVQbUiJS8G",
        "outputId": "ef333b86-1f64-4ecb-d8c6-3ea4cc9a4b04"
      },
      "source": [
        "a = [1,2,3,4,5]\n",
        "del a[2:]\n",
        "a"
      ],
      "execution_count": 23,
      "outputs": [
        {
          "output_type": "execute_result",
          "data": {
            "text/plain": [
              "[1, 2]"
            ]
          },
          "metadata": {
            "tags": []
          },
          "execution_count": 23
        }
      ]
    },
    {
      "cell_type": "code",
      "metadata": {
        "colab": {
          "base_uri": "https://localhost:8080/"
        },
        "id": "hkJ5E_D7JS5B",
        "outputId": "bbef4334-942e-4c11-b2a5-1e6f109c31e4"
      },
      "source": [
        "a = [1,2,3]\n",
        "a.append(4)\n",
        "a"
      ],
      "execution_count": 28,
      "outputs": [
        {
          "output_type": "execute_result",
          "data": {
            "text/plain": [
              "[1, 2, 3, 4]"
            ]
          },
          "metadata": {
            "tags": []
          },
          "execution_count": 28
        }
      ]
    },
    {
      "cell_type": "code",
      "metadata": {
        "colab": {
          "base_uri": "https://localhost:8080/"
        },
        "id": "9_pjFln1JS2l",
        "outputId": "58703acf-78a9-4d58-c746-f54c14d64819"
      },
      "source": [
        "a.insert(0,5) # 0번째 자리에 5를 삽입\n",
        "a"
      ],
      "execution_count": 29,
      "outputs": [
        {
          "output_type": "execute_result",
          "data": {
            "text/plain": [
              "[5, 1, 2, 3, 4]"
            ]
          },
          "metadata": {
            "tags": []
          },
          "execution_count": 29
        }
      ]
    },
    {
      "cell_type": "code",
      "metadata": {
        "colab": {
          "base_uri": "https://localhost:8080/"
        },
        "id": "qhZu4k3rJSzS",
        "outputId": "10289be9-8a63-4841-f872-bb4edf5998ed"
      },
      "source": [
        "a.append([2,3])\n",
        "a"
      ],
      "execution_count": 30,
      "outputs": [
        {
          "output_type": "execute_result",
          "data": {
            "text/plain": [
              "[5, 1, 2, 3, 4, [2, 3]]"
            ]
          },
          "metadata": {
            "tags": []
          },
          "execution_count": 30
        }
      ]
    },
    {
      "cell_type": "code",
      "metadata": {
        "colab": {
          "base_uri": "https://localhost:8080/"
        },
        "id": "lQGHFaRJJSuy",
        "outputId": "10462d24-bbe7-41a2-982a-d3ca025480d9"
      },
      "source": [
        "a = [1,4,3,2]\n",
        "a.sort()  # 정렬함수\n",
        "a"
      ],
      "execution_count": 32,
      "outputs": [
        {
          "output_type": "execute_result",
          "data": {
            "text/plain": [
              "[1, 2, 3, 4]"
            ]
          },
          "metadata": {
            "tags": []
          },
          "execution_count": 32
        }
      ]
    },
    {
      "cell_type": "code",
      "metadata": {
        "colab": {
          "base_uri": "https://localhost:8080/"
        },
        "id": "VbobcB6qJSsF",
        "outputId": "ff31b0ec-c63c-42d0-ec71-d5dab6f399cf"
      },
      "source": [
        "a.reverse()\n",
        "a"
      ],
      "execution_count": 35,
      "outputs": [
        {
          "output_type": "execute_result",
          "data": {
            "text/plain": [
              "[4, 3, 2, 1]"
            ]
          },
          "metadata": {
            "tags": []
          },
          "execution_count": 35
        }
      ]
    },
    {
      "cell_type": "code",
      "metadata": {
        "colab": {
          "base_uri": "https://localhost:8080/"
        },
        "id": "_4e7ZFWIJSpF",
        "outputId": "7c169142-e7b7-4131-da49-7b64e148e902"
      },
      "source": [
        "a = ['car', 'apple', 'banana']\n",
        "a.sort()\n",
        "a"
      ],
      "execution_count": 37,
      "outputs": [
        {
          "output_type": "execute_result",
          "data": {
            "text/plain": [
              "['apple', 'banana', 'car']"
            ]
          },
          "metadata": {
            "tags": []
          },
          "execution_count": 37
        }
      ]
    },
    {
      "cell_type": "code",
      "metadata": {
        "colab": {
          "base_uri": "https://localhost:8080/"
        },
        "id": "W6Qn5ybWJSmW",
        "outputId": "028ce88f-5212-4fb4-e92a-5717c72c5f23"
      },
      "source": [
        "a = [4,3,2,1]\n",
        "a.index(1)  # '1' 원소가 있는 인덱스 자리"
      ],
      "execution_count": 39,
      "outputs": [
        {
          "output_type": "execute_result",
          "data": {
            "text/plain": [
              "3"
            ]
          },
          "metadata": {
            "tags": []
          },
          "execution_count": 39
        }
      ]
    },
    {
      "cell_type": "code",
      "metadata": {
        "colab": {
          "base_uri": "https://localhost:8080/"
        },
        "id": "MeYaCpiMJSji",
        "outputId": "8c8b40f1-4741-44d3-cb19-0793351c35c7"
      },
      "source": [
        "# 예외처리 : 오류를 처리하는 방법\n",
        "try:\n",
        "  a.index(0)\n",
        "except:\n",
        "  print('해당 숫자는 리스트 안에 없습니다.')"
      ],
      "execution_count": 40,
      "outputs": [
        {
          "output_type": "stream",
          "text": [
            "해당 숫자는 리스트 안에 없습니다.\n"
          ],
          "name": "stdout"
        }
      ]
    },
    {
      "cell_type": "code",
      "metadata": {
        "colab": {
          "base_uri": "https://localhost:8080/"
        },
        "id": "uptmkKjZJSgj",
        "outputId": "bf23ab4a-a055-46eb-94d9-16a7f5e2d7ae"
      },
      "source": [
        "a.remove(1) # 리스트 안에 처음으로 있는 해당 원소만을 제거\n",
        "a"
      ],
      "execution_count": 41,
      "outputs": [
        {
          "output_type": "execute_result",
          "data": {
            "text/plain": [
              "[4, 3, 2]"
            ]
          },
          "metadata": {
            "tags": []
          },
          "execution_count": 41
        }
      ]
    },
    {
      "cell_type": "code",
      "metadata": {
        "colab": {
          "base_uri": "https://localhost:8080/"
        },
        "id": "aAEhpBSwK0jo",
        "outputId": "10f9f66c-51c1-4028-e9ba-782baed69fc6"
      },
      "source": [
        "a = [1,2,3,1]\n",
        "a.remove(1)\n",
        "a"
      ],
      "execution_count": 43,
      "outputs": [
        {
          "output_type": "execute_result",
          "data": {
            "text/plain": [
              "[2, 3, 1]"
            ]
          },
          "metadata": {
            "tags": []
          },
          "execution_count": 43
        }
      ]
    },
    {
      "cell_type": "code",
      "metadata": {
        "colab": {
          "base_uri": "https://localhost:8080/"
        },
        "id": "kH1v18b1K9B0",
        "outputId": "a8a75fc8-22e3-4085-97f3-e1c64795f23d"
      },
      "source": [
        "a = [1,2,3]\n",
        "target = a.pop()  # 맨 마지막에 있는 값을 끄집어내서 저장\n",
        "a"
      ],
      "execution_count": 44,
      "outputs": [
        {
          "output_type": "execute_result",
          "data": {
            "text/plain": [
              "[1, 2]"
            ]
          },
          "metadata": {
            "tags": []
          },
          "execution_count": 44
        }
      ]
    },
    {
      "cell_type": "code",
      "metadata": {
        "colab": {
          "base_uri": "https://localhost:8080/"
        },
        "id": "H6nmdBwbLEqr",
        "outputId": "c7ee74f9-b54d-4614-ef43-a595482ffc58"
      },
      "source": [
        "target"
      ],
      "execution_count": 45,
      "outputs": [
        {
          "output_type": "execute_result",
          "data": {
            "text/plain": [
              "3"
            ]
          },
          "metadata": {
            "tags": []
          },
          "execution_count": 45
        }
      ]
    },
    {
      "cell_type": "code",
      "metadata": {
        "colab": {
          "base_uri": "https://localhost:8080/"
        },
        "id": "KiyAtksqLGfn",
        "outputId": "203746bf-e046-4412-d8d4-61a0d12941bb"
      },
      "source": [
        "a = [1,2,3]\n",
        "target = a.pop(0)\n",
        "a"
      ],
      "execution_count": 46,
      "outputs": [
        {
          "output_type": "execute_result",
          "data": {
            "text/plain": [
              "[2, 3]"
            ]
          },
          "metadata": {
            "tags": []
          },
          "execution_count": 46
        }
      ]
    },
    {
      "cell_type": "code",
      "metadata": {
        "colab": {
          "base_uri": "https://localhost:8080/"
        },
        "id": "jOLLFjbNLGc3",
        "outputId": "98fbfff6-8615-46c8-fdde-2f9ea121c1ff"
      },
      "source": [
        "target"
      ],
      "execution_count": 47,
      "outputs": [
        {
          "output_type": "execute_result",
          "data": {
            "text/plain": [
              "1"
            ]
          },
          "metadata": {
            "tags": []
          },
          "execution_count": 47
        }
      ]
    },
    {
      "cell_type": "code",
      "metadata": {
        "colab": {
          "base_uri": "https://localhost:8080/"
        },
        "id": "ADh8KMyTLGWQ",
        "outputId": "06669196-e517-42f3-9475-f1ce05900939"
      },
      "source": [
        "# 튜플 : 리스트랑 똑같다. 하지만 튜플은 한 번 정해지면 수정이 불가능하다\n",
        "\n",
        "a = (1,2,3,4,5)\n",
        "a"
      ],
      "execution_count": 48,
      "outputs": [
        {
          "output_type": "execute_result",
          "data": {
            "text/plain": [
              "(1, 2, 3, 4, 5)"
            ]
          },
          "metadata": {
            "tags": []
          },
          "execution_count": 48
        }
      ]
    },
    {
      "cell_type": "code",
      "metadata": {
        "colab": {
          "base_uri": "https://localhost:8080/"
        },
        "id": "fZBrfJZImNLB",
        "outputId": "f9a40973-fb1b-4809-e0f1-58c88d157574"
      },
      "source": [
        "a[0]"
      ],
      "execution_count": 50,
      "outputs": [
        {
          "output_type": "execute_result",
          "data": {
            "text/plain": [
              "1"
            ]
          },
          "metadata": {
            "tags": []
          },
          "execution_count": 50
        }
      ]
    },
    {
      "cell_type": "code",
      "metadata": {
        "id": "RKqG86kfPNWv",
        "colab": {
          "base_uri": "https://localhost:8080/"
        },
        "outputId": "88b46ba8-73c7-446a-87c7-2d355e5b8e22"
      },
      "source": [
        "a[1:]"
      ],
      "execution_count": 51,
      "outputs": [
        {
          "output_type": "execute_result",
          "data": {
            "text/plain": [
              "(2, 3, 4, 5)"
            ]
          },
          "metadata": {
            "tags": []
          },
          "execution_count": 51
        }
      ]
    },
    {
      "cell_type": "code",
      "metadata": {
        "id": "jT-1n7LhLrBx"
      },
      "source": [
        "# del a[0]  # 불가능"
      ],
      "execution_count": 52,
      "outputs": []
    },
    {
      "cell_type": "code",
      "metadata": {
        "colab": {
          "base_uri": "https://localhost:8080/"
        },
        "id": "zTY6xNRJL7d6",
        "outputId": "5c72eb95-6b54-4cfb-af5e-bdff8fda59f3"
      },
      "source": [
        "a = 3,5 # 튜플로 자동 저장\n",
        "a"
      ],
      "execution_count": 55,
      "outputs": [
        {
          "output_type": "execute_result",
          "data": {
            "text/plain": [
              "(3, 5)"
            ]
          },
          "metadata": {
            "tags": []
          },
          "execution_count": 55
        }
      ]
    },
    {
      "cell_type": "code",
      "metadata": {
        "colab": {
          "base_uri": "https://localhost:8080/"
        },
        "id": "nKs2USfJL_YA",
        "outputId": "ff38d14b-0b5f-46a8-e3ba-a6ff04442306"
      },
      "source": [
        "a = (3) # 한개는 튜플로 만들 수 없다. 강제로 만드려면 (3,) 형태로 저장\n",
        "a"
      ],
      "execution_count": 56,
      "outputs": [
        {
          "output_type": "execute_result",
          "data": {
            "text/plain": [
              "3"
            ]
          },
          "metadata": {
            "tags": []
          },
          "execution_count": 56
        }
      ]
    },
    {
      "cell_type": "code",
      "metadata": {
        "colab": {
          "base_uri": "https://localhost:8080/"
        },
        "id": "VmDJ7zfZMGZI",
        "outputId": "d60bce4c-7973-43e2-f9d9-254fa8c9b497"
      },
      "source": [
        "# 딕셔너리\n",
        "\n",
        "a = {'이름' : '송민영', '나이' : 24, '성별' : '여자', '이메일' : 'mysong914@gmail.com'}\n",
        "a"
      ],
      "execution_count": 57,
      "outputs": [
        {
          "output_type": "execute_result",
          "data": {
            "text/plain": [
              "{'나이': 24, '성별': '여자', '이름': '송민영', '이메일': 'mysong914@gmail.com'}"
            ]
          },
          "metadata": {
            "tags": []
          },
          "execution_count": 57
        }
      ]
    },
    {
      "cell_type": "code",
      "metadata": {
        "colab": {
          "base_uri": "https://localhost:8080/",
          "height": 35
        },
        "id": "ygBW7axVMe70",
        "outputId": "ec24be2b-bc4c-4c45-a16b-c633afa5fd8a"
      },
      "source": [
        "# 딕셔너리는 무조건 key 값 기준\n",
        "\n",
        "a['이름']"
      ],
      "execution_count": 58,
      "outputs": [
        {
          "output_type": "execute_result",
          "data": {
            "application/vnd.google.colaboratory.intrinsic+json": {
              "type": "string"
            },
            "text/plain": [
              "'송민영'"
            ]
          },
          "metadata": {
            "tags": []
          },
          "execution_count": 58
        }
      ]
    },
    {
      "cell_type": "code",
      "metadata": {
        "colab": {
          "base_uri": "https://localhost:8080/"
        },
        "id": "TInVr8WqMlo6",
        "outputId": "07e95814-1f71-4f26-eaa9-240d6a634630"
      },
      "source": [
        "'이름' in a"
      ],
      "execution_count": 59,
      "outputs": [
        {
          "output_type": "execute_result",
          "data": {
            "text/plain": [
              "True"
            ]
          },
          "metadata": {
            "tags": []
          },
          "execution_count": 59
        }
      ]
    },
    {
      "cell_type": "code",
      "metadata": {
        "colab": {
          "base_uri": "https://localhost:8080/"
        },
        "id": "UwL3BxT2Mnxe",
        "outputId": "c55de737-31bf-48a8-996a-8f6ed38f8607"
      },
      "source": [
        "'송민영' in a"
      ],
      "execution_count": 60,
      "outputs": [
        {
          "output_type": "execute_result",
          "data": {
            "text/plain": [
              "False"
            ]
          },
          "metadata": {
            "tags": []
          },
          "execution_count": 60
        }
      ]
    },
    {
      "cell_type": "code",
      "metadata": {
        "colab": {
          "base_uri": "https://localhost:8080/"
        },
        "id": "93e4EjryMqjw",
        "outputId": "32b57864-303e-4372-a626-eeb462a93e9d"
      },
      "source": [
        "a['학교'] = '홍익대학교'\n",
        "a"
      ],
      "execution_count": 61,
      "outputs": [
        {
          "output_type": "execute_result",
          "data": {
            "text/plain": [
              "{'나이': 24,\n",
              " '성별': '여자',\n",
              " '이름': '송민영',\n",
              " '이메일': 'mysong914@gmail.com',\n",
              " '학교': '홍익대학교'}"
            ]
          },
          "metadata": {
            "tags": []
          },
          "execution_count": 61
        }
      ]
    },
    {
      "cell_type": "code",
      "metadata": {
        "colab": {
          "base_uri": "https://localhost:8080/"
        },
        "id": "8MVtWBtnMwLu",
        "outputId": "e5bfce11-022d-4d89-e79f-24e81c0a43df"
      },
      "source": [
        "del a['성별']\n",
        "a"
      ],
      "execution_count": 62,
      "outputs": [
        {
          "output_type": "execute_result",
          "data": {
            "text/plain": [
              "{'나이': 24, '이름': '송민영', '이메일': 'mysong914@gmail.com', '학교': '홍익대학교'}"
            ]
          },
          "metadata": {
            "tags": []
          },
          "execution_count": 62
        }
      ]
    },
    {
      "cell_type": "code",
      "metadata": {
        "colab": {
          "base_uri": "https://localhost:8080/"
        },
        "id": "ovGcY0GvM2R9",
        "outputId": "d3f28457-960c-4897-84c0-6a1f112b98e2"
      },
      "source": [
        "a['이름'] = '송'\n",
        "a"
      ],
      "execution_count": 65,
      "outputs": [
        {
          "output_type": "execute_result",
          "data": {
            "text/plain": [
              "{'나이': 24, '이름': '송', '이메일': 'mysong914@gmail.com', '학교': '홍익대학교'}"
            ]
          },
          "metadata": {
            "tags": []
          },
          "execution_count": 65
        }
      ]
    },
    {
      "cell_type": "code",
      "metadata": {
        "colab": {
          "base_uri": "https://localhost:8080/"
        },
        "id": "BGA8DHB2M6Q1",
        "outputId": "911d9522-8c64-491e-b5b1-354bac522465"
      },
      "source": [
        "# 딕셔너리 전용함수\n",
        "\n",
        "a.keys()  # key 값들만 보여줌"
      ],
      "execution_count": 66,
      "outputs": [
        {
          "output_type": "execute_result",
          "data": {
            "text/plain": [
              "dict_keys(['이름', '나이', '이메일', '학교'])"
            ]
          },
          "metadata": {
            "tags": []
          },
          "execution_count": 66
        }
      ]
    },
    {
      "cell_type": "code",
      "metadata": {
        "colab": {
          "base_uri": "https://localhost:8080/"
        },
        "id": "w3eIR8VeNFiv",
        "outputId": "cafa16a5-9f99-4c4b-84ab-e148db725566"
      },
      "source": [
        "a.values()  # value 값들만 보여줌"
      ],
      "execution_count": 67,
      "outputs": [
        {
          "output_type": "execute_result",
          "data": {
            "text/plain": [
              "dict_values(['송', 24, 'mysong914@gmail.com', '홍익대학교'])"
            ]
          },
          "metadata": {
            "tags": []
          },
          "execution_count": 67
        }
      ]
    },
    {
      "cell_type": "code",
      "metadata": {
        "colab": {
          "base_uri": "https://localhost:8080/"
        },
        "id": "eahrP13WNGxD",
        "outputId": "323c607f-d582-4250-d1f3-16411d7cd704"
      },
      "source": [
        "a.items() # key,value 짝을 리스트로 저장하여 보여줌"
      ],
      "execution_count": 68,
      "outputs": [
        {
          "output_type": "execute_result",
          "data": {
            "text/plain": [
              "dict_items([('이름', '송'), ('나이', 24), ('이메일', 'mysong914@gmail.com'), ('학교', '홍익대학교')])"
            ]
          },
          "metadata": {
            "tags": []
          },
          "execution_count": 68
        }
      ]
    },
    {
      "cell_type": "code",
      "metadata": {
        "colab": {
          "base_uri": "https://localhost:8080/"
        },
        "id": "-2HXO-1mNQrg",
        "outputId": "e73c8d43-864c-4231-c8ce-0368fe9e2ddb"
      },
      "source": [
        "# 집합의 성질\n",
        "# 1. 중복을 허용하지 않는다\n",
        "# 2. 순서가 없다\n",
        "\n",
        "a = set([1,2,3,1,1,1])\n",
        "a"
      ],
      "execution_count": 69,
      "outputs": [
        {
          "output_type": "execute_result",
          "data": {
            "text/plain": [
              "{1, 2, 3}"
            ]
          },
          "metadata": {
            "tags": []
          },
          "execution_count": 69
        }
      ]
    },
    {
      "cell_type": "code",
      "metadata": {
        "colab": {
          "base_uri": "https://localhost:8080/"
        },
        "id": "5P7PkDG6Nku5",
        "outputId": "756c9d78-775a-4d75-9fe9-475229ef5aba"
      },
      "source": [
        "a = set('hello world!')\n",
        "a"
      ],
      "execution_count": 70,
      "outputs": [
        {
          "output_type": "execute_result",
          "data": {
            "text/plain": [
              "{' ', '!', 'd', 'e', 'h', 'l', 'o', 'r', 'w'}"
            ]
          },
          "metadata": {
            "tags": []
          },
          "execution_count": 70
        }
      ]
    },
    {
      "cell_type": "code",
      "metadata": {
        "colab": {
          "base_uri": "https://localhost:8080/"
        },
        "id": "gNl04xk3NpSx",
        "outputId": "603bb796-193c-48c6-acb6-9800b8174870"
      },
      "source": [
        "a = [1,2,3,1,1,2]\n",
        "a = set(a)\n",
        "a"
      ],
      "execution_count": 74,
      "outputs": [
        {
          "output_type": "execute_result",
          "data": {
            "text/plain": [
              "{1, 2, 3}"
            ]
          },
          "metadata": {
            "tags": []
          },
          "execution_count": 74
        }
      ]
    },
    {
      "cell_type": "code",
      "metadata": {
        "colab": {
          "base_uri": "https://localhost:8080/"
        },
        "id": "jU4udTzNNwqq",
        "outputId": "c189e014-bbf3-42be-f3e7-8cfeaac16662"
      },
      "source": [
        "a = list(a)\n",
        "a"
      ],
      "execution_count": 75,
      "outputs": [
        {
          "output_type": "execute_result",
          "data": {
            "text/plain": [
              "[1, 2, 3]"
            ]
          },
          "metadata": {
            "tags": []
          },
          "execution_count": 75
        }
      ]
    },
    {
      "cell_type": "code",
      "metadata": {
        "colab": {
          "base_uri": "https://localhost:8080/"
        },
        "id": "gO9UyprON0Rs",
        "outputId": "7c078422-d8df-4a69-868b-951259d09368"
      },
      "source": [
        "a = set([1,2,3,4,5,6])\n",
        "b = set([4,5,6,7,8,9])\n",
        "\n",
        "a & b"
      ],
      "execution_count": 96,
      "outputs": [
        {
          "output_type": "execute_result",
          "data": {
            "text/plain": [
              "{4, 5, 6}"
            ]
          },
          "metadata": {
            "tags": []
          },
          "execution_count": 96
        }
      ]
    },
    {
      "cell_type": "code",
      "metadata": {
        "colab": {
          "base_uri": "https://localhost:8080/"
        },
        "id": "5t8ic8uoOCvf",
        "outputId": "12820bf0-3f35-4584-f253-3e680b061d00"
      },
      "source": [
        "a | b"
      ],
      "execution_count": 77,
      "outputs": [
        {
          "output_type": "execute_result",
          "data": {
            "text/plain": [
              "{1, 2, 3, 4, 5, 6, 7, 8, 9}"
            ]
          },
          "metadata": {
            "tags": []
          },
          "execution_count": 77
        }
      ]
    },
    {
      "cell_type": "code",
      "metadata": {
        "colab": {
          "base_uri": "https://localhost:8080/"
        },
        "id": "g0DeBX_0OFCM",
        "outputId": "fd553cd6-58f3-4a31-996c-87bb66481891"
      },
      "source": [
        "a - b"
      ],
      "execution_count": 78,
      "outputs": [
        {
          "output_type": "execute_result",
          "data": {
            "text/plain": [
              "{1, 2, 3}"
            ]
          },
          "metadata": {
            "tags": []
          },
          "execution_count": 78
        }
      ]
    },
    {
      "cell_type": "code",
      "metadata": {
        "colab": {
          "base_uri": "https://localhost:8080/"
        },
        "id": "zY_MVjhaOKT3",
        "outputId": "e2bed520-16ce-4ec5-fcd8-218d17fc55c1"
      },
      "source": [
        "a"
      ],
      "execution_count": 79,
      "outputs": [
        {
          "output_type": "execute_result",
          "data": {
            "text/plain": [
              "{1, 2, 3, 4, 5, 6}"
            ]
          },
          "metadata": {
            "tags": []
          },
          "execution_count": 79
        }
      ]
    },
    {
      "cell_type": "code",
      "metadata": {
        "colab": {
          "base_uri": "https://localhost:8080/"
        },
        "id": "asGdQiF-OLZf",
        "outputId": "8494c183-6004-4c25-a301-61b3dc51169e"
      },
      "source": [
        "a.add(7)  # 집합에 값 추가\n",
        "a"
      ],
      "execution_count": 97,
      "outputs": [
        {
          "output_type": "execute_result",
          "data": {
            "text/plain": [
              "{1, 2, 3, 4, 5, 6, 7}"
            ]
          },
          "metadata": {
            "tags": []
          },
          "execution_count": 97
        }
      ]
    },
    {
      "cell_type": "code",
      "metadata": {
        "colab": {
          "base_uri": "https://localhost:8080/"
        },
        "id": "5LgBNGtFOMzb",
        "outputId": "35b68b98-fd21-41a2-d24f-bcd10a42fb44"
      },
      "source": [
        "a.update([8,9,10])  # update 함수를 사용해서 여러개를 한번에 추가\n",
        "a"
      ],
      "execution_count": 98,
      "outputs": [
        {
          "output_type": "execute_result",
          "data": {
            "text/plain": [
              "{1, 2, 3, 4, 5, 6, 7, 8, 9, 10}"
            ]
          },
          "metadata": {
            "tags": []
          },
          "execution_count": 98
        }
      ]
    },
    {
      "cell_type": "code",
      "metadata": {
        "colab": {
          "base_uri": "https://localhost:8080/"
        },
        "id": "7tpTzV-eO8ay",
        "outputId": "2dcd7680-ea1f-425b-d716-310be535d6cf"
      },
      "source": [
        "a.remove(10)\n",
        "a"
      ],
      "execution_count": 99,
      "outputs": [
        {
          "output_type": "execute_result",
          "data": {
            "text/plain": [
              "{1, 2, 3, 4, 5, 6, 7, 8, 9}"
            ]
          },
          "metadata": {
            "tags": []
          },
          "execution_count": 99
        }
      ]
    },
    {
      "cell_type": "code",
      "metadata": {
        "colab": {
          "base_uri": "https://localhost:8080/"
        },
        "id": "BrbXl7qAOPPe",
        "outputId": "2b99ba30-6c99-4218-e5ea-6cbe28063209"
      },
      "source": [
        "# bool 자료형 : 참과 거짓\n",
        "\n",
        "# 참 : True\n",
        "# 거짓 : False\n",
        "\n",
        "5 > 3"
      ],
      "execution_count": 82,
      "outputs": [
        {
          "output_type": "execute_result",
          "data": {
            "text/plain": [
              "True"
            ]
          },
          "metadata": {
            "tags": []
          },
          "execution_count": 82
        }
      ]
    },
    {
      "cell_type": "code",
      "metadata": {
        "colab": {
          "base_uri": "https://localhost:8080/"
        },
        "id": "vsmfdteJOVHQ",
        "outputId": "9e6c22b2-90d0-4f8b-fc2e-5dd95579fc00"
      },
      "source": [
        "# 비어있으면 False\n",
        "# 숫자는 0 이면 False\n",
        "\n",
        "bool(0)"
      ],
      "execution_count": 83,
      "outputs": [
        {
          "output_type": "execute_result",
          "data": {
            "text/plain": [
              "False"
            ]
          },
          "metadata": {
            "tags": []
          },
          "execution_count": 83
        }
      ]
    },
    {
      "cell_type": "code",
      "metadata": {
        "colab": {
          "base_uri": "https://localhost:8080/"
        },
        "id": "uFKV8tsROgi5",
        "outputId": "c966e86f-41a1-4271-965d-c7647d048ccf"
      },
      "source": [
        "bool([])"
      ],
      "execution_count": 84,
      "outputs": [
        {
          "output_type": "execute_result",
          "data": {
            "text/plain": [
              "False"
            ]
          },
          "metadata": {
            "tags": []
          },
          "execution_count": 84
        }
      ]
    },
    {
      "cell_type": "code",
      "metadata": {
        "colab": {
          "base_uri": "https://localhost:8080/"
        },
        "id": "Pg1xWF9WOigs",
        "outputId": "8da55afb-954a-4b71-d60e-d3c4c128aa9c"
      },
      "source": [
        "bool([3])"
      ],
      "execution_count": 85,
      "outputs": [
        {
          "output_type": "execute_result",
          "data": {
            "text/plain": [
              "True"
            ]
          },
          "metadata": {
            "tags": []
          },
          "execution_count": 85
        }
      ]
    },
    {
      "cell_type": "code",
      "metadata": {
        "colab": {
          "base_uri": "https://localhost:8080/"
        },
        "id": "jowCJftMOkR1",
        "outputId": "c3781f42-5f71-4c0c-d603-e283913b07b0"
      },
      "source": [
        "bool('')"
      ],
      "execution_count": 86,
      "outputs": [
        {
          "output_type": "execute_result",
          "data": {
            "text/plain": [
              "False"
            ]
          },
          "metadata": {
            "tags": []
          },
          "execution_count": 86
        }
      ]
    },
    {
      "cell_type": "code",
      "metadata": {
        "colab": {
          "base_uri": "https://localhost:8080/"
        },
        "id": "ASfsCF9lOlSB",
        "outputId": "530d12a0-1a59-4a2d-985c-0784c50a19e0"
      },
      "source": [
        "bool('t')"
      ],
      "execution_count": 87,
      "outputs": [
        {
          "output_type": "execute_result",
          "data": {
            "text/plain": [
              "True"
            ]
          },
          "metadata": {
            "tags": []
          },
          "execution_count": 87
        }
      ]
    },
    {
      "cell_type": "code",
      "metadata": {
        "colab": {
          "base_uri": "https://localhost:8080/"
        },
        "id": "iys3IWAPOnLD",
        "outputId": "a216b377-084c-41da-8117-03cfeb7f39f1"
      },
      "source": [
        "a,b = 3,4\n",
        "a"
      ],
      "execution_count": 88,
      "outputs": [
        {
          "output_type": "execute_result",
          "data": {
            "text/plain": [
              "3"
            ]
          },
          "metadata": {
            "tags": []
          },
          "execution_count": 88
        }
      ]
    },
    {
      "cell_type": "code",
      "metadata": {
        "colab": {
          "base_uri": "https://localhost:8080/"
        },
        "id": "W-M8qQYCOpl1",
        "outputId": "94edce91-19d1-4e11-ee7d-964ed43d79db"
      },
      "source": [
        "b"
      ],
      "execution_count": 89,
      "outputs": [
        {
          "output_type": "execute_result",
          "data": {
            "text/plain": [
              "4"
            ]
          },
          "metadata": {
            "tags": []
          },
          "execution_count": 89
        }
      ]
    },
    {
      "cell_type": "code",
      "metadata": {
        "colab": {
          "base_uri": "https://localhost:8080/"
        },
        "id": "2Z6SSfR9OqCh",
        "outputId": "fc4f35bb-8c52-49cb-a11b-dbd917fd3e86"
      },
      "source": [
        "a = 3\n",
        "b = 5\n",
        "\n",
        "a,b = b,a\n",
        "print(a,b)"
      ],
      "execution_count": 92,
      "outputs": [
        {
          "output_type": "stream",
          "text": [
            "5 3\n"
          ],
          "name": "stdout"
        }
      ]
    },
    {
      "cell_type": "code",
      "metadata": {
        "colab": {
          "base_uri": "https://localhost:8080/"
        },
        "id": "Ft5TLWBjRUxN",
        "outputId": "adc70a47-dbd3-46ac-edb2-9a8721eb1ed1"
      },
      "source": [
        "# 리스트, 튜플, 딕셔너리 값들은 복사를 못함\n",
        "# -> 데이터 용량이 너무 클 수도 있기 때문에\n",
        "# b = a 이런식의 명령어는\n",
        "# a 리스트를 b라는 변수로도 가리킬 수 있도록 같은 이름으로 본다고 해석\n",
        "a = [1,2,3,4,5]\n",
        "b = a\n",
        "b[1] = 7\n",
        "print(b)\n",
        "print(a)\n",
        "# 값은 b에서만 수정했지만 결과적으로 a도 바뀜"
      ],
      "execution_count": 117,
      "outputs": [
        {
          "output_type": "stream",
          "text": [
            "[1, 7, 3, 4, 5]\n",
            "[1, 7, 3, 4, 5]\n"
          ],
          "name": "stdout"
        }
      ]
    },
    {
      "cell_type": "code",
      "metadata": {
        "colab": {
          "base_uri": "https://localhost:8080/"
        },
        "id": "s3UykTbIOuwT",
        "outputId": "a111fd52-1b34-48b0-a9b1-85725388139a"
      },
      "source": [
        "a = [1,2,3,4,5]\n",
        "b = a[:]  # b에 a 리스트 값을 복사하려면 이런식으로 사용\n",
        "b"
      ],
      "execution_count": 101,
      "outputs": [
        {
          "output_type": "execute_result",
          "data": {
            "text/plain": [
              "[1, 2, 3, 4, 5]"
            ]
          },
          "metadata": {
            "tags": []
          },
          "execution_count": 101
        }
      ]
    },
    {
      "cell_type": "code",
      "metadata": {
        "colab": {
          "base_uri": "https://localhost:8080/"
        },
        "id": "HFgJx931PUQe",
        "outputId": "0b3e8fac-4f93-491b-a526-c49f7a9045cb"
      },
      "source": [
        "b[1] = 7\n",
        "b"
      ],
      "execution_count": 102,
      "outputs": [
        {
          "output_type": "execute_result",
          "data": {
            "text/plain": [
              "[1, 7, 3, 4, 5]"
            ]
          },
          "metadata": {
            "tags": []
          },
          "execution_count": 102
        }
      ]
    },
    {
      "cell_type": "code",
      "metadata": {
        "colab": {
          "base_uri": "https://localhost:8080/"
        },
        "id": "SOOD-Jk4PbjD",
        "outputId": "fefb66df-716b-41c4-b90a-a24c7181afad"
      },
      "source": [
        "a"
      ],
      "execution_count": 103,
      "outputs": [
        {
          "output_type": "execute_result",
          "data": {
            "text/plain": [
              "[1, 2, 3, 4, 5]"
            ]
          },
          "metadata": {
            "tags": []
          },
          "execution_count": 103
        }
      ]
    },
    {
      "cell_type": "code",
      "metadata": {
        "colab": {
          "base_uri": "https://localhost:8080/",
          "height": 35
        },
        "id": "cuCudxYWPcO0",
        "outputId": "674444d2-258f-428e-bd1e-1025e83c2940"
      },
      "source": [
        "a = '881120-1068234'\n",
        "a[7:]"
      ],
      "execution_count": 104,
      "outputs": [
        {
          "output_type": "execute_result",
          "data": {
            "application/vnd.google.colaboratory.intrinsic+json": {
              "type": "string"
            },
            "text/plain": [
              "'1068234'"
            ]
          },
          "metadata": {
            "tags": []
          },
          "execution_count": 104
        }
      ]
    },
    {
      "cell_type": "code",
      "metadata": {
        "colab": {
          "base_uri": "https://localhost:8080/",
          "height": 35
        },
        "id": "kg4PoqE2Pnjz",
        "outputId": "7dbb9fbc-96bf-4e2b-b5c3-06bac78a727b"
      },
      "source": [
        "a.split('-')[1]"
      ],
      "execution_count": 105,
      "outputs": [
        {
          "output_type": "execute_result",
          "data": {
            "application/vnd.google.colaboratory.intrinsic+json": {
              "type": "string"
            },
            "text/plain": [
              "'1068234'"
            ]
          },
          "metadata": {
            "tags": []
          },
          "execution_count": 105
        }
      ]
    },
    {
      "cell_type": "code",
      "metadata": {
        "colab": {
          "base_uri": "https://localhost:8080/",
          "height": 35
        },
        "id": "rsNyb1NbPsUr",
        "outputId": "e98b72b0-7068-48cc-d513-5b0004fa449e"
      },
      "source": [
        "a = 'a:b:c:d'\n",
        "a.replace(':','#')"
      ],
      "execution_count": 106,
      "outputs": [
        {
          "output_type": "execute_result",
          "data": {
            "application/vnd.google.colaboratory.intrinsic+json": {
              "type": "string"
            },
            "text/plain": [
              "'a#b#c#d'"
            ]
          },
          "metadata": {
            "tags": []
          },
          "execution_count": 106
        }
      ]
    },
    {
      "cell_type": "code",
      "metadata": {
        "colab": {
          "base_uri": "https://localhost:8080/",
          "height": 35
        },
        "id": "IxCe5QSOPxfi",
        "outputId": "110d57d2-ccc7-4d1a-e067-8ba29c26921c"
      },
      "source": [
        "a = ['Python', 'is', 'too', 'fun']\n",
        "\" \".join(a)"
      ],
      "execution_count": 108,
      "outputs": [
        {
          "output_type": "execute_result",
          "data": {
            "application/vnd.google.colaboratory.intrinsic+json": {
              "type": "string"
            },
            "text/plain": [
              "'Python is too fun'"
            ]
          },
          "metadata": {
            "tags": []
          },
          "execution_count": 108
        }
      ]
    },
    {
      "cell_type": "code",
      "metadata": {
        "colab": {
          "base_uri": "https://localhost:8080/"
        },
        "id": "i54at7VkP9Sa",
        "outputId": "2cf78ea3-7fbc-40ea-8335-01d9c239e1f7"
      },
      "source": [
        "a = [1,2,3,4,5]\n",
        "tuple(a)"
      ],
      "execution_count": 109,
      "outputs": [
        {
          "output_type": "execute_result",
          "data": {
            "text/plain": [
              "(1, 2, 3, 4, 5)"
            ]
          },
          "metadata": {
            "tags": []
          },
          "execution_count": 109
        }
      ]
    },
    {
      "cell_type": "code",
      "metadata": {
        "colab": {
          "base_uri": "https://localhost:8080/"
        },
        "id": "D11v16u5QBir",
        "outputId": "791d0e8b-2d4c-414b-ffe9-9bb3da8380e8"
      },
      "source": [
        "a = (1,2,3,4,5)\n",
        "list(a)"
      ],
      "execution_count": 110,
      "outputs": [
        {
          "output_type": "execute_result",
          "data": {
            "text/plain": [
              "[1, 2, 3, 4, 5]"
            ]
          },
          "metadata": {
            "tags": []
          },
          "execution_count": 110
        }
      ]
    },
    {
      "cell_type": "code",
      "metadata": {
        "colab": {
          "base_uri": "https://localhost:8080/"
        },
        "id": "JN0bpb2yQD9L",
        "outputId": "97c63528-cce2-4955-a8b2-a81fb06a0a27"
      },
      "source": [
        "a = (1,2,3)\n",
        "a = list(a)\n",
        "a.append(4)\n",
        "a = tuple(a)\n",
        "a"
      ],
      "execution_count": 111,
      "outputs": [
        {
          "output_type": "execute_result",
          "data": {
            "text/plain": [
              "(1, 2, 3, 4)"
            ]
          },
          "metadata": {
            "tags": []
          },
          "execution_count": 111
        }
      ]
    },
    {
      "cell_type": "code",
      "metadata": {
        "colab": {
          "base_uri": "https://localhost:8080/"
        },
        "id": "wAEWxaFiQJNK",
        "outputId": "7043f0b9-46e9-44d8-de3c-8d44982d89eb"
      },
      "source": [
        "# If문\n",
        "# if 조건:\n",
        "\n",
        "money = True\n",
        "if money != True:\n",
        "  print('taxi')\n",
        "else: print('walk')"
      ],
      "execution_count": 113,
      "outputs": [
        {
          "output_type": "stream",
          "text": [
            "walk\n"
          ],
          "name": "stdout"
        }
      ]
    },
    {
      "cell_type": "code",
      "metadata": {
        "colab": {
          "base_uri": "https://localhost:8080/"
        },
        "id": "_ZeO5qb6QVNq",
        "outputId": "3e300919-b584-4c1d-ee43-8a6d2d50cad3"
      },
      "source": [
        "money = 2000\n",
        "\n",
        "if money >= 3000:\n",
        "  print('taxi')\n",
        "else:\n",
        "  print('walk')"
      ],
      "execution_count": 114,
      "outputs": [
        {
          "output_type": "stream",
          "text": [
            "walk\n"
          ],
          "name": "stdout"
        }
      ]
    },
    {
      "cell_type": "code",
      "metadata": {
        "colab": {
          "base_uri": "https://localhost:8080/"
        },
        "id": "XCrwq9UkQmNv",
        "outputId": "56388f3d-e690-4046-e17f-e52fa95db144"
      },
      "source": [
        "money = 2000\n",
        "card = True\n",
        "\n",
        "if money >= 3000 or card == True:\n",
        "  print('taxi')\n",
        "else:\n",
        "  print('walk')"
      ],
      "execution_count": 115,
      "outputs": [
        {
          "output_type": "stream",
          "text": [
            "taxi\n"
          ],
          "name": "stdout"
        }
      ]
    },
    {
      "cell_type": "code",
      "metadata": {
        "colab": {
          "base_uri": "https://localhost:8080/"
        },
        "id": "zrl5Ep2aQvYc",
        "outputId": "e4a006b8-9804-42f0-eef1-5d0c4fdf8058"
      },
      "source": [
        "pocket = ['paper', 'cellphone', 'money']\n",
        "\n",
        "if 'money' in pocket:\n",
        "  print('taxi')\n",
        "else:\n",
        "  pirnt('walk')\n",
        "  "
      ],
      "execution_count": 116,
      "outputs": [
        {
          "output_type": "stream",
          "text": [
            "taxi\n"
          ],
          "name": "stdout"
        }
      ]
    },
    {
      "cell_type": "code",
      "metadata": {
        "id": "HXJoBIOCQ6A6"
      },
      "source": [
        ""
      ],
      "execution_count": null,
      "outputs": []
    }
  ]
}