{
  "nbformat": 4,
  "nbformat_minor": 0,
  "metadata": {
    "colab": {
      "name": "210811_hongik.ipynb",
      "provenance": [],
      "collapsed_sections": []
    },
    "kernelspec": {
      "name": "python3",
      "display_name": "Python 3"
    },
    "language_info": {
      "name": "python"
    }
  },
  "cells": [
    {
      "cell_type": "code",
      "metadata": {
        "colab": {
          "base_uri": "https://localhost:8080/"
        },
        "id": "WwwOIEafWycE",
        "outputId": "3e9d1e20-89bb-4b0f-87c1-71716c39760c"
      },
      "source": [
        "# 반복문\n",
        "\n",
        "# while : 조건이 맞으면 무한반복\n",
        "# for : 순서가 있는 유한반복\n",
        "\n",
        "# while 조건:\n",
        "\n",
        "hit = 0\n",
        "while hit < 10:\n",
        "  hit = hit + 1\n",
        "  print('나무를 {}번 찍었습니다.'.format(hit))"
      ],
      "execution_count": null,
      "outputs": [
        {
          "output_type": "stream",
          "text": [
            "나무를 1번 찍었습니다.\n",
            "나무를 2번 찍었습니다.\n",
            "나무를 3번 찍었습니다.\n",
            "나무를 4번 찍었습니다.\n",
            "나무를 5번 찍었습니다.\n",
            "나무를 6번 찍었습니다.\n",
            "나무를 7번 찍었습니다.\n",
            "나무를 8번 찍었습니다.\n",
            "나무를 9번 찍었습니다.\n",
            "나무를 10번 찍었습니다.\n"
          ],
          "name": "stdout"
        }
      ]
    },
    {
      "cell_type": "code",
      "metadata": {
        "colab": {
          "base_uri": "https://localhost:8080/"
        },
        "id": "Ism70SpPZeBY",
        "outputId": "dab034c4-3499-438c-f57f-127ac9c122fc"
      },
      "source": [
        "coffee = 10\n",
        "\n",
        "while True:\n",
        "  coffee = coffee - 1\n",
        "  print('커피를 한 잔 팔고 {}잔 남았습니다.'.format(coffee))\n",
        "  if coffee == 0:\n",
        "    print('커피를 모두 팔았습니다.')\n",
        "    break # break를 만나면, 그 순간 반복문을 강제로 나가게 된다."
      ],
      "execution_count": null,
      "outputs": [
        {
          "output_type": "stream",
          "text": [
            "커피를 한 잔 팔고 9잔 남았습니다.\n",
            "커피를 한 잔 팔고 8잔 남았습니다.\n",
            "커피를 한 잔 팔고 7잔 남았습니다.\n",
            "커피를 한 잔 팔고 6잔 남았습니다.\n",
            "커피를 한 잔 팔고 5잔 남았습니다.\n",
            "커피를 한 잔 팔고 4잔 남았습니다.\n",
            "커피를 한 잔 팔고 3잔 남았습니다.\n",
            "커피를 한 잔 팔고 2잔 남았습니다.\n",
            "커피를 한 잔 팔고 1잔 남았습니다.\n",
            "커피를 한 잔 팔고 0잔 남았습니다.\n",
            "커피를 모두 팔았습니다.\n"
          ],
          "name": "stdout"
        }
      ]
    },
    {
      "cell_type": "code",
      "metadata": {
        "colab": {
          "base_uri": "https://localhost:8080/"
        },
        "id": "Hijcu6CVaViQ",
        "outputId": "ec5d0262-6e80-4a87-a15d-005682f75428"
      },
      "source": [
        "a= 0 \n",
        "\n",
        "while a < 10:\n",
        "  a += 1\n",
        "  if a % 2 == 0:\n",
        "    continue\n",
        "  print(a)"
      ],
      "execution_count": null,
      "outputs": [
        {
          "output_type": "stream",
          "text": [
            "1\n",
            "3\n",
            "5\n",
            "7\n",
            "9\n"
          ],
          "name": "stdout"
        }
      ]
    },
    {
      "cell_type": "code",
      "metadata": {
        "colab": {
          "base_uri": "https://localhost:8080/"
        },
        "id": "Bx5SrcnDbBAE",
        "outputId": "afa4a95d-b805-4d28-f10f-764dd91a2b8c"
      },
      "source": [
        "# 퀴즈: while문을 사용해서 1~1000까지 3의 배수의 합을 구하세요 (답: 166833)\n",
        "\n",
        "a = 1\n",
        "s = 0\n",
        "while a <= 1000:\n",
        "  if a % 3 == 0:\n",
        "    s = s + a\n",
        "  a += 1\n",
        "print(s)"
      ],
      "execution_count": null,
      "outputs": [
        {
          "output_type": "stream",
          "text": [
            "166833\n"
          ],
          "name": "stdout"
        }
      ]
    },
    {
      "cell_type": "code",
      "metadata": {
        "colab": {
          "base_uri": "https://localhost:8080/"
        },
        "id": "_duo4j_Ubpvs",
        "outputId": "8ef1cad2-9d61-4b65-b53e-c4bbc5dffe3e"
      },
      "source": [
        "box = ['아이유', '수지', '로제']\n",
        "\n",
        "for i in box:\n",
        "  print(i) "
      ],
      "execution_count": null,
      "outputs": [
        {
          "output_type": "stream",
          "text": [
            "아이유\n",
            "수지\n",
            "로제\n"
          ],
          "name": "stdout"
        }
      ]
    },
    {
      "cell_type": "code",
      "metadata": {
        "colab": {
          "base_uri": "https://localhost:8080/"
        },
        "id": "K1CSEiZoeN7g",
        "outputId": "cc3c2f18-044b-4b95-9e49-83b3dc188144"
      },
      "source": [
        "box = [(1,2), (3,4), (5,6)]\n",
        "\n",
        "for i in box:\n",
        "  print(i)\n",
        "\n",
        "for i,j in box:\n",
        "  print(i)\n",
        "\n",
        "for i,j in box:\n",
        "  print(i+j)"
      ],
      "execution_count": null,
      "outputs": [
        {
          "output_type": "stream",
          "text": [
            "(1, 2)\n",
            "(3, 4)\n",
            "(5, 6)\n",
            "1\n",
            "3\n",
            "5\n",
            "3\n",
            "7\n",
            "11\n"
          ],
          "name": "stdout"
        }
      ]
    },
    {
      "cell_type": "code",
      "metadata": {
        "colab": {
          "base_uri": "https://localhost:8080/"
        },
        "id": "rN0dAc4neYvt",
        "outputId": "ae8e3011-ca1a-4688-c4c7-ecdaf1f61895"
      },
      "source": [
        "students = [90, 25, 75, 45, 100]\n",
        "num = 0\n",
        "\n",
        "for i in students:\n",
        "  num += 1\n",
        "  if i > 60:\n",
        "    print(f'{num}번 학생 합격 -- {i}점')"
      ],
      "execution_count": null,
      "outputs": [
        {
          "output_type": "stream",
          "text": [
            "1번 학생 합격 -- 90점\n",
            "3번 학생 합격 -- 75점\n",
            "5번 학생 합격 -- 100점\n"
          ],
          "name": "stdout"
        }
      ]
    },
    {
      "cell_type": "code",
      "metadata": {
        "colab": {
          "base_uri": "https://localhost:8080/"
        },
        "id": "SMCwaasmfKd4",
        "outputId": "8fbec80d-f372-44ff-df46-1a6ba9686da3"
      },
      "source": [
        "students = [90, 25, 75, 45, 100]\n",
        "num = 0\n",
        "\n",
        "for i in students:\n",
        "  num += 1\n",
        "  if i < 60:\n",
        "    continue\n",
        "  print(f'{num}번 학생 합격 -- {i}점')"
      ],
      "execution_count": null,
      "outputs": [
        {
          "output_type": "stream",
          "text": [
            "1번 학생 합격 -- 90점\n",
            "3번 학생 합격 -- 75점\n",
            "5번 학생 합격 -- 100점\n"
          ],
          "name": "stdout"
        }
      ]
    },
    {
      "cell_type": "code",
      "metadata": {
        "colab": {
          "base_uri": "https://localhost:8080/"
        },
        "id": "bHvzCCjGfBF_",
        "outputId": "d3e76ba9-0037-42b7-b594-94fa9101593d"
      },
      "source": [
        "# 1~100 까지 더하면? 5050\n",
        "\n",
        "a = 0\n",
        "for i in range(1, 101):\n",
        "  a += i\n",
        "print(a)"
      ],
      "execution_count": null,
      "outputs": [
        {
          "output_type": "stream",
          "text": [
            "5050\n"
          ],
          "name": "stdout"
        }
      ]
    },
    {
      "cell_type": "code",
      "metadata": {
        "colab": {
          "base_uri": "https://localhost:8080/"
        },
        "id": "zwC7mC_ofm_f",
        "outputId": "0be1779f-9ff1-40bb-c125-80bf1adb4704"
      },
      "source": [
        "for i in range(10):\n",
        "  print(i)"
      ],
      "execution_count": null,
      "outputs": [
        {
          "output_type": "stream",
          "text": [
            "0\n",
            "1\n",
            "2\n",
            "3\n",
            "4\n",
            "5\n",
            "6\n",
            "7\n",
            "8\n",
            "9\n"
          ],
          "name": "stdout"
        }
      ]
    },
    {
      "cell_type": "code",
      "metadata": {
        "colab": {
          "base_uri": "https://localhost:8080/"
        },
        "id": "anSFvDDkf0Ub",
        "outputId": "a6747ead-d09c-49f5-f56d-569a99774868"
      },
      "source": [
        "for i in range(10,0,-1):\n",
        "  print(i)"
      ],
      "execution_count": null,
      "outputs": [
        {
          "output_type": "stream",
          "text": [
            "10\n",
            "9\n",
            "8\n",
            "7\n",
            "6\n",
            "5\n",
            "4\n",
            "3\n",
            "2\n",
            "1\n"
          ],
          "name": "stdout"
        }
      ]
    },
    {
      "cell_type": "code",
      "metadata": {
        "colab": {
          "base_uri": "https://localhost:8080/"
        },
        "id": "HDplHicqgAac",
        "outputId": "5f640685-529c-4080-bbaa-c93705f056ca"
      },
      "source": [
        "for i in range(2,10):\n",
        "  print(i,'단-')\n",
        "  for j in range(1,10):\n",
        "    print('{} X {} = {}'.format(i,j,i*j))\n",
        "  print()"
      ],
      "execution_count": null,
      "outputs": [
        {
          "output_type": "stream",
          "text": [
            "2 단-\n",
            "2 X 1 = 2\n",
            "2 X 2 = 4\n",
            "2 X 3 = 6\n",
            "2 X 4 = 8\n",
            "2 X 5 = 10\n",
            "2 X 6 = 12\n",
            "2 X 7 = 14\n",
            "2 X 8 = 16\n",
            "2 X 9 = 18\n",
            "\n",
            "3 단-\n",
            "3 X 1 = 3\n",
            "3 X 2 = 6\n",
            "3 X 3 = 9\n",
            "3 X 4 = 12\n",
            "3 X 5 = 15\n",
            "3 X 6 = 18\n",
            "3 X 7 = 21\n",
            "3 X 8 = 24\n",
            "3 X 9 = 27\n",
            "\n",
            "4 단-\n",
            "4 X 1 = 4\n",
            "4 X 2 = 8\n",
            "4 X 3 = 12\n",
            "4 X 4 = 16\n",
            "4 X 5 = 20\n",
            "4 X 6 = 24\n",
            "4 X 7 = 28\n",
            "4 X 8 = 32\n",
            "4 X 9 = 36\n",
            "\n",
            "5 단-\n",
            "5 X 1 = 5\n",
            "5 X 2 = 10\n",
            "5 X 3 = 15\n",
            "5 X 4 = 20\n",
            "5 X 5 = 25\n",
            "5 X 6 = 30\n",
            "5 X 7 = 35\n",
            "5 X 8 = 40\n",
            "5 X 9 = 45\n",
            "\n",
            "6 단-\n",
            "6 X 1 = 6\n",
            "6 X 2 = 12\n",
            "6 X 3 = 18\n",
            "6 X 4 = 24\n",
            "6 X 5 = 30\n",
            "6 X 6 = 36\n",
            "6 X 7 = 42\n",
            "6 X 8 = 48\n",
            "6 X 9 = 54\n",
            "\n",
            "7 단-\n",
            "7 X 1 = 7\n",
            "7 X 2 = 14\n",
            "7 X 3 = 21\n",
            "7 X 4 = 28\n",
            "7 X 5 = 35\n",
            "7 X 6 = 42\n",
            "7 X 7 = 49\n",
            "7 X 8 = 56\n",
            "7 X 9 = 63\n",
            "\n",
            "8 단-\n",
            "8 X 1 = 8\n",
            "8 X 2 = 16\n",
            "8 X 3 = 24\n",
            "8 X 4 = 32\n",
            "8 X 5 = 40\n",
            "8 X 6 = 48\n",
            "8 X 7 = 56\n",
            "8 X 8 = 64\n",
            "8 X 9 = 72\n",
            "\n",
            "9 단-\n",
            "9 X 1 = 9\n",
            "9 X 2 = 18\n",
            "9 X 3 = 27\n",
            "9 X 4 = 36\n",
            "9 X 5 = 45\n",
            "9 X 6 = 54\n",
            "9 X 7 = 63\n",
            "9 X 8 = 72\n",
            "9 X 9 = 81\n",
            "\n"
          ],
          "name": "stdout"
        }
      ]
    },
    {
      "cell_type": "code",
      "metadata": {
        "colab": {
          "base_uri": "https://localhost:8080/"
        },
        "id": "zLzh1Jk8g_VC",
        "outputId": "871a947a-be08-4f5e-8588-4d58922f3b44"
      },
      "source": [
        "for i in range(5,0,-1):\n",
        "  print('*'*i)"
      ],
      "execution_count": null,
      "outputs": [
        {
          "output_type": "stream",
          "text": [
            "*****\n",
            "****\n",
            "***\n",
            "**\n",
            "*\n"
          ],
          "name": "stdout"
        }
      ]
    },
    {
      "cell_type": "code",
      "metadata": {
        "colab": {
          "base_uri": "https://localhost:8080/"
        },
        "id": "qetefXmPhes0",
        "outputId": "fcace2e7-2b66-425f-eac4-682a53ce22a6"
      },
      "source": [
        "box = []\n",
        "num = 1\n",
        "for i in range(1,6):\n",
        "  box.append(i)\n",
        "print(box)"
      ],
      "execution_count": null,
      "outputs": [
        {
          "output_type": "stream",
          "text": [
            "[1, 2, 3, 4, 5]\n"
          ],
          "name": "stdout"
        }
      ]
    },
    {
      "cell_type": "code",
      "metadata": {
        "colab": {
          "base_uri": "https://localhost:8080/"
        },
        "id": "yXSXi1J6iq1S",
        "outputId": "526e6506-3de0-48e3-ada6-010b431a2fd1"
      },
      "source": [
        "box = [i for i in range(1,11)]\n",
        "box"
      ],
      "execution_count": null,
      "outputs": [
        {
          "output_type": "execute_result",
          "data": {
            "text/plain": [
              "[1, 2, 3, 4, 5, 6, 7, 8, 9, 10]"
            ]
          },
          "metadata": {
            "tags": []
          },
          "execution_count": 32
        }
      ]
    },
    {
      "cell_type": "code",
      "metadata": {
        "colab": {
          "base_uri": "https://localhost:8080/"
        },
        "id": "6ANgh7tpjzeG",
        "outputId": "c6ca86f6-5857-4b00-e8e1-0b86469967fa"
      },
      "source": [
        "box = [i for i in range(1,11) if i % 2 == 0]\n",
        "box"
      ],
      "execution_count": null,
      "outputs": [
        {
          "output_type": "execute_result",
          "data": {
            "text/plain": [
              "[2, 4, 6, 8, 10]"
            ]
          },
          "metadata": {
            "tags": []
          },
          "execution_count": 33
        }
      ]
    },
    {
      "cell_type": "code",
      "metadata": {
        "colab": {
          "base_uri": "https://localhost:8080/"
        },
        "id": "fyT6y16fj4na",
        "outputId": "fa4e5e72-6479-48b3-b2da-612d26663ef1"
      },
      "source": [
        "box = [i*j for i in range(1,11) for j in range(1,11)]\n",
        "box"
      ],
      "execution_count": null,
      "outputs": [
        {
          "output_type": "execute_result",
          "data": {
            "text/plain": [
              "[1,\n",
              " 2,\n",
              " 3,\n",
              " 4,\n",
              " 5,\n",
              " 6,\n",
              " 7,\n",
              " 8,\n",
              " 9,\n",
              " 10,\n",
              " 2,\n",
              " 4,\n",
              " 6,\n",
              " 8,\n",
              " 10,\n",
              " 12,\n",
              " 14,\n",
              " 16,\n",
              " 18,\n",
              " 20,\n",
              " 3,\n",
              " 6,\n",
              " 9,\n",
              " 12,\n",
              " 15,\n",
              " 18,\n",
              " 21,\n",
              " 24,\n",
              " 27,\n",
              " 30,\n",
              " 4,\n",
              " 8,\n",
              " 12,\n",
              " 16,\n",
              " 20,\n",
              " 24,\n",
              " 28,\n",
              " 32,\n",
              " 36,\n",
              " 40,\n",
              " 5,\n",
              " 10,\n",
              " 15,\n",
              " 20,\n",
              " 25,\n",
              " 30,\n",
              " 35,\n",
              " 40,\n",
              " 45,\n",
              " 50,\n",
              " 6,\n",
              " 12,\n",
              " 18,\n",
              " 24,\n",
              " 30,\n",
              " 36,\n",
              " 42,\n",
              " 48,\n",
              " 54,\n",
              " 60,\n",
              " 7,\n",
              " 14,\n",
              " 21,\n",
              " 28,\n",
              " 35,\n",
              " 42,\n",
              " 49,\n",
              " 56,\n",
              " 63,\n",
              " 70,\n",
              " 8,\n",
              " 16,\n",
              " 24,\n",
              " 32,\n",
              " 40,\n",
              " 48,\n",
              " 56,\n",
              " 64,\n",
              " 72,\n",
              " 80,\n",
              " 9,\n",
              " 18,\n",
              " 27,\n",
              " 36,\n",
              " 45,\n",
              " 54,\n",
              " 63,\n",
              " 72,\n",
              " 81,\n",
              " 90,\n",
              " 10,\n",
              " 20,\n",
              " 30,\n",
              " 40,\n",
              " 50,\n",
              " 60,\n",
              " 70,\n",
              " 80,\n",
              " 90,\n",
              " 100]"
            ]
          },
          "metadata": {
            "tags": []
          },
          "execution_count": 35
        }
      ]
    },
    {
      "cell_type": "code",
      "metadata": {
        "colab": {
          "base_uri": "https://localhost:8080/"
        },
        "id": "AcSapUlMkMhh",
        "outputId": "556cd381-b8c8-473f-9132-5896c8442c9f"
      },
      "source": [
        "# 함수 : 미리 만들어놓고 필요할 때 가져다 쓰는 것\n",
        "\n",
        "# def 함수이름(매개변수)\n",
        "\n",
        "def add(a, b):\n",
        "  return a + b\n",
        "\n",
        "print(add(3,4))"
      ],
      "execution_count": null,
      "outputs": [
        {
          "output_type": "stream",
          "text": [
            "7\n"
          ],
          "name": "stdout"
        }
      ]
    },
    {
      "cell_type": "code",
      "metadata": {
        "colab": {
          "base_uri": "https://localhost:8080/"
        },
        "id": "HSgNNKxBkUZq",
        "outputId": "47aad793-d9d5-4c9e-8f8f-aa41383f076c"
      },
      "source": [
        "# Quiz: 직각 삼각형의 밑변과 높이의 길이를 넣어주면 빗변의 길이를 반환해주는 함수를 만드세요\n",
        "\n",
        "# import math\n",
        "\n",
        "def triangle(a,b):\n",
        "  # return math.sqrt(a*a + b*b)\n",
        "  return (a**2 + b**2) ** (1/2)\n",
        "\n",
        "print(triangle(3,4))"
      ],
      "execution_count": null,
      "outputs": [
        {
          "output_type": "stream",
          "text": [
            "5.0\n"
          ],
          "name": "stdout"
        }
      ]
    },
    {
      "cell_type": "code",
      "metadata": {
        "colab": {
          "base_uri": "https://localhost:8080/"
        },
        "id": "B62eY-MFxgD9",
        "outputId": "db00ebf6-1842-4c5b-f3cd-9bfe866ca5e0"
      },
      "source": [
        "def intro(name, age, sex = True):\n",
        "  print('나의 이름은 {}입니다'.format(name))\n",
        "  print('나의 나이는 {}입니다'.format(age))\n",
        "  if sex == True:\n",
        "    print('나는 남자입니다')\n",
        "  else:\n",
        "    print('나는 여자입니다')\n",
        "\n",
        "intro('곽경일', 29)\n",
        "\n",
        "intro('장원영', 18, 5)  # sex 자리에 1을 쓰면 True로 인식, 나머지는 False"
      ],
      "execution_count": null,
      "outputs": [
        {
          "output_type": "stream",
          "text": [
            "나의 이름은 곽경일입니다\n",
            "나의 나이는 29입니다\n",
            "나는 남자입니다\n",
            "나의 이름은 장원영입니다\n",
            "나의 나이는 18입니다\n",
            "나는 여자입니다\n"
          ],
          "name": "stdout"
        }
      ]
    },
    {
      "cell_type": "code",
      "metadata": {
        "colab": {
          "base_uri": "https://localhost:8080/"
        },
        "id": "FLRzcAZ4luV1",
        "outputId": "f47485e4-1156-4a6c-98cc-13fede59966d"
      },
      "source": [
        "def test():\n",
        "  a = 5 # 함수 안에 있는 변수는 함수가 끝나면 사라진다\n",
        "  return a\n",
        "\n",
        "a = 0\n",
        "test()\n",
        "print(a)\n",
        "\n",
        "a = test()\n",
        "print(a)"
      ],
      "execution_count": null,
      "outputs": [
        {
          "output_type": "stream",
          "text": [
            "0\n",
            "5\n"
          ],
          "name": "stdout"
        }
      ]
    },
    {
      "cell_type": "code",
      "metadata": {
        "colab": {
          "base_uri": "https://localhost:8080/"
        },
        "id": "_i7YChSGqoKL",
        "outputId": "4af3e2a4-398e-4dc9-e8a5-616d6bc2fbd8"
      },
      "source": [
        "# 아주 간단한 함수를 만들 때 lambda 사용\n",
        "\n",
        "add = lambda a,b:a+b\n",
        "\n",
        "# 함수 매개변수로 함수를 사용할 때 간결하게 lambda로 정의해서 사용할 수 있다\n",
        "add(3,5)"
      ],
      "execution_count": null,
      "outputs": [
        {
          "output_type": "execute_result",
          "data": {
            "text/plain": [
              "8"
            ]
          },
          "metadata": {
            "tags": []
          },
          "execution_count": 12
        }
      ]
    },
    {
      "cell_type": "code",
      "metadata": {
        "colab": {
          "base_uri": "https://localhost:8080/"
        },
        "id": "TIMATX8wrP95",
        "outputId": "990c773a-08a9-44ec-e374-26411867e483"
      },
      "source": [
        "def factorial(n):\n",
        "  a = 1\n",
        "  for i in range(1, n+1):\n",
        "    a *= i\n",
        "  return a\n",
        "\n",
        "factorial(5)"
      ],
      "execution_count": null,
      "outputs": [
        {
          "output_type": "execute_result",
          "data": {
            "text/plain": [
              "120"
            ]
          },
          "metadata": {
            "tags": []
          },
          "execution_count": 16
        }
      ]
    },
    {
      "cell_type": "code",
      "metadata": {
        "colab": {
          "base_uri": "https://localhost:8080/"
        },
        "id": "0UZnlaZEwNCd",
        "outputId": "80cdc9ed-8d4b-4790-b3c3-d260fc380caa"
      },
      "source": [
        "# 재귀함수\n",
        "\n",
        "def fact(n):\n",
        "  if n == 1:\n",
        "    return 1\n",
        "  else:\n",
        "    return n * fact(n-1)\n",
        "\n",
        "fact(5)"
      ],
      "execution_count": null,
      "outputs": [
        {
          "output_type": "execute_result",
          "data": {
            "text/plain": [
              "120"
            ]
          },
          "metadata": {
            "tags": []
          },
          "execution_count": 53
        }
      ]
    },
    {
      "cell_type": "code",
      "metadata": {
        "colab": {
          "base_uri": "https://localhost:8080/"
        },
        "id": "y3p3XYMfxEBv",
        "outputId": "bd5a152d-ea15-4a20-c40e-70f2f645e532"
      },
      "source": [
        "# 피보나치 수열 : 앞에 있는 수 2개를 더하는 수열\n",
        "# 1 1 2 3 5 8 13 21 ...\n",
        "\n",
        "count = 0\n",
        "\n",
        "def pivo(n):\n",
        "  global count\n",
        "  count += 1\n",
        "\n",
        "  if n==1 or n==2:\n",
        "    return 1\n",
        "  else:\n",
        "    return pivo(n-1) + pivo(n-2)  \n",
        "    # 이렇게 재귀를 부르면 기존에 계산했던 값을 다시 처음부터 계산함 -> 비효율적\n",
        "\n",
        "pivo(35)\n",
        "print(count)  # pivo(35)를 계산하기 위해서 함수를 count 개수만큼 반복 (18,454,929번)"
      ],
      "execution_count": null,
      "outputs": [
        {
          "output_type": "stream",
          "text": [
            "18454929\n"
          ],
          "name": "stdout"
        }
      ]
    },
    {
      "cell_type": "code",
      "metadata": {
        "colab": {
          "base_uri": "https://localhost:8080/"
        },
        "id": "7iu7KTEK0W9j",
        "outputId": "2f075a16-511f-4eb6-9e53-58f1140cfef8"
      },
      "source": [
        "count = 0\n",
        "\n",
        "dic = {1 : 1,\n",
        "       2 : 1}\n",
        "  \n",
        "def pivo(n):\n",
        "  global count \n",
        "  count += 1\n",
        "\n",
        "  if n in dic:\n",
        "    return dic[n]\n",
        "  else:\n",
        "    dic[n] = pivo(n-1) + pivo(n-2)\n",
        "    return dic[n]\n",
        "\n",
        "pivo(35)\n",
        "print(count)"
      ],
      "execution_count": 1,
      "outputs": [
        {
          "output_type": "stream",
          "text": [
            "67\n"
          ],
          "name": "stdout"
        }
      ]
    },
    {
      "cell_type": "code",
      "metadata": {
        "colab": {
          "base_uri": "https://localhost:8080/"
        },
        "id": "gbK6g3UvgipC",
        "outputId": "112b8b33-6787-434e-f29b-c85df82e816a"
      },
      "source": [
        "dic"
      ],
      "execution_count": 2,
      "outputs": [
        {
          "output_type": "execute_result",
          "data": {
            "text/plain": [
              "{1: 1,\n",
              " 2: 1,\n",
              " 3: 2,\n",
              " 4: 3,\n",
              " 5: 5,\n",
              " 6: 8,\n",
              " 7: 13,\n",
              " 8: 21,\n",
              " 9: 34,\n",
              " 10: 55,\n",
              " 11: 89,\n",
              " 12: 144,\n",
              " 13: 233,\n",
              " 14: 377,\n",
              " 15: 610,\n",
              " 16: 987,\n",
              " 17: 1597,\n",
              " 18: 2584,\n",
              " 19: 4181,\n",
              " 20: 6765,\n",
              " 21: 10946,\n",
              " 22: 17711,\n",
              " 23: 28657,\n",
              " 24: 46368,\n",
              " 25: 75025,\n",
              " 26: 121393,\n",
              " 27: 196418,\n",
              " 28: 317811,\n",
              " 29: 514229,\n",
              " 30: 832040,\n",
              " 31: 1346269,\n",
              " 32: 2178309,\n",
              " 33: 3524578,\n",
              " 34: 5702887,\n",
              " 35: 9227465}"
            ]
          },
          "metadata": {},
          "execution_count": 2
        }
      ]
    },
    {
      "cell_type": "code",
      "metadata": {
        "id": "QdbGV-Jxgr-N"
      },
      "source": [
        "### 파일"
      ],
      "execution_count": null,
      "outputs": []
    },
    {
      "cell_type": "code",
      "metadata": {
        "id": "taBcNq8Y2f0I"
      },
      "source": [
        "f = open('test.txt', 'wt') # write text : 파일 안에 항상 새롭게 다시 써줌\n",
        "\n",
        "for i in range(1,11):\n",
        "  f.write('{}번째 줄입니다.\\n'.format(i))\n",
        "\n",
        "f.close()\n",
        "\n",
        "f = open('test.txt', 'at') # attach text : 기존 내용에 이어서 써줌\n",
        "f.write('내용 추가')\n",
        "f.close()"
      ],
      "execution_count": null,
      "outputs": []
    },
    {
      "cell_type": "code",
      "metadata": {
        "colab": {
          "base_uri": "https://localhost:8080/"
        },
        "id": "x192bqev3ZkE",
        "outputId": "67f45cec-99cb-4ac4-bd05-88b2daa81e8c"
      },
      "source": [
        "f = open('test.txt', 'rt')  # read text : 파일 안에 내용 읽어옴\n",
        "text_data = f.read()\n",
        "f.close()\n",
        "\n",
        "print(text_data)"
      ],
      "execution_count": null,
      "outputs": [
        {
          "output_type": "stream",
          "text": [
            "1번째 줄입니다.\n",
            "2번째 줄입니다.\n",
            "3번째 줄입니다.\n",
            "4번째 줄입니다.\n",
            "5번째 줄입니다.\n",
            "6번째 줄입니다.\n",
            "7번째 줄입니다.\n",
            "8번째 줄입니다.\n",
            "9번째 줄입니다.\n",
            "10번째 줄입니다.\n",
            "내용 추가\n"
          ],
          "name": "stdout"
        }
      ]
    },
    {
      "cell_type": "code",
      "metadata": {
        "colab": {
          "base_uri": "https://localhost:8080/"
        },
        "id": "3QIzuf0U4qL1",
        "outputId": "22e076f0-938d-463f-f40a-21f73264ec77"
      },
      "source": [
        "f = open('test.txt', 'rt')\n",
        "text_data = f.readlines() # 파일 내용을 한줄한줄 읽어와서 리스트 형태로 저장\n",
        "f.close()\n",
        "\n",
        "print(text_data)"
      ],
      "execution_count": null,
      "outputs": [
        {
          "output_type": "stream",
          "text": [
            "['1번째 줄입니다.\\n', '2번째 줄입니다.\\n', '3번째 줄입니다.\\n', '4번째 줄입니다.\\n', '5번째 줄입니다.\\n', '6번째 줄입니다.\\n', '7번째 줄입니다.\\n', '8번째 줄입니다.\\n', '9번째 줄입니다.\\n', '10번째 줄입니다.\\n', '내용 추가']\n"
          ],
          "name": "stdout"
        }
      ]
    },
    {
      "cell_type": "code",
      "metadata": {
        "colab": {
          "base_uri": "https://localhost:8080/"
        },
        "id": "VyNYnWvS5DZe",
        "outputId": "bcf2c791-a8d4-4082-8eb8-7945628754d0"
      },
      "source": [
        "# 내장함수\n",
        "\n",
        "a = abs(-5) # 절댓값\n",
        "print(a)"
      ],
      "execution_count": null,
      "outputs": [
        {
          "output_type": "stream",
          "text": [
            "5\n"
          ],
          "name": "stdout"
        }
      ]
    },
    {
      "cell_type": "code",
      "metadata": {
        "colab": {
          "base_uri": "https://localhost:8080/"
        },
        "id": "d0Nvmx1-z2-7",
        "outputId": "26225408-eead-4540-a64f-4650dcfc1d71"
      },
      "source": [
        "box = ['제니', '소미', '나연']\n",
        "\n",
        "for i, j in enumerate(box): # 인덱스 번호와 컬렉션의 원소를 튜플 형태로 반환한다\n",
        "  print(i, j)"
      ],
      "execution_count": null,
      "outputs": [
        {
          "output_type": "stream",
          "text": [
            "0 제니\n",
            "1 소미\n",
            "2 나연\n"
          ],
          "name": "stdout"
        }
      ]
    },
    {
      "cell_type": "code",
      "metadata": {
        "colab": {
          "base_uri": "https://localhost:8080/",
          "height": 53
        },
        "id": "4kH41ZFo5mPV",
        "outputId": "093deda2-a6b3-476b-9465-52525c37a6f6"
      },
      "source": [
        "a = input('값을 입력해주세요: ')  # 무조건 문자열로 입력받음\n",
        "a"
      ],
      "execution_count": null,
      "outputs": [
        {
          "output_type": "stream",
          "text": [
            "값을 입력해주세요: 3\n"
          ],
          "name": "stdout"
        },
        {
          "output_type": "execute_result",
          "data": {
            "application/vnd.google.colaboratory.intrinsic+json": {
              "type": "string"
            },
            "text/plain": [
              "'3'"
            ]
          },
          "metadata": {
            "tags": []
          },
          "execution_count": 66
        }
      ]
    },
    {
      "cell_type": "code",
      "metadata": {
        "colab": {
          "base_uri": "https://localhost:8080/"
        },
        "id": "4ZL0fNQw6Inv",
        "outputId": "a668d483-1b5a-4c7a-9576-1f9478063a66"
      },
      "source": [
        "a = int(input('값을 입력해주세요: '))   # 숫자형태로 변환\n",
        "a"
      ],
      "execution_count": null,
      "outputs": [
        {
          "output_type": "stream",
          "text": [
            "값을 입력해주세요: 3\n"
          ],
          "name": "stdout"
        },
        {
          "output_type": "execute_result",
          "data": {
            "text/plain": [
              "3"
            ]
          },
          "metadata": {
            "tags": []
          },
          "execution_count": 21
        }
      ]
    },
    {
      "cell_type": "code",
      "metadata": {
        "colab": {
          "base_uri": "https://localhost:8080/"
        },
        "id": "kASvUphN6N25",
        "outputId": "b3d0e5d2-81d0-4ecb-add5-f4db00eeff3b"
      },
      "source": [
        "int('101', 2)  # 2진법인 '101'을 10진법 숫자형태로 반환"
      ],
      "execution_count": null,
      "outputs": [
        {
          "output_type": "execute_result",
          "data": {
            "text/plain": [
              "5"
            ]
          },
          "metadata": {
            "tags": []
          },
          "execution_count": 69
        }
      ]
    },
    {
      "cell_type": "code",
      "metadata": {
        "colab": {
          "base_uri": "https://localhost:8080/"
        },
        "id": "tt1YyaLq0Vfi",
        "outputId": "665eb54a-baac-4edc-93ef-d3092c99343a"
      },
      "source": [
        "int('1A', 16)"
      ],
      "execution_count": null,
      "outputs": [
        {
          "output_type": "execute_result",
          "data": {
            "text/plain": [
              "26"
            ]
          },
          "metadata": {
            "tags": []
          },
          "execution_count": 22
        }
      ]
    },
    {
      "cell_type": "code",
      "metadata": {
        "colab": {
          "base_uri": "https://localhost:8080/"
        },
        "id": "Kw4AtUeT6su3",
        "outputId": "5c560123-758a-4404-c66d-5cd24f4280f1"
      },
      "source": [
        "len([1,2,3,4,5])  # 리스트 길이 반환"
      ],
      "execution_count": null,
      "outputs": [
        {
          "output_type": "execute_result",
          "data": {
            "text/plain": [
              "5"
            ]
          },
          "metadata": {
            "tags": []
          },
          "execution_count": 70
        }
      ]
    },
    {
      "cell_type": "code",
      "metadata": {
        "colab": {
          "base_uri": "https://localhost:8080/"
        },
        "id": "6KKRQbzq61w2",
        "outputId": "853e89a2-ddb9-4d7c-d588-33b03b7cc352"
      },
      "source": [
        "# 문자열 다루는 문제\n",
        "\n",
        "list('python')  # 해당 문자열을 리스트로 변환시켜준다"
      ],
      "execution_count": null,
      "outputs": [
        {
          "output_type": "execute_result",
          "data": {
            "text/plain": [
              "['p', 'y', 't', 'h', 'o', 'n']"
            ]
          },
          "metadata": {
            "tags": []
          },
          "execution_count": 71
        }
      ]
    },
    {
      "cell_type": "code",
      "metadata": {
        "colab": {
          "base_uri": "https://localhost:8080/"
        },
        "id": "tUVL55CxGcVd",
        "outputId": "302778ec-86b1-402d-f96f-0f08e690b338"
      },
      "source": [
        "list(range(1,11))"
      ],
      "execution_count": null,
      "outputs": [
        {
          "output_type": "execute_result",
          "data": {
            "text/plain": [
              "[1, 2, 3, 4, 5, 6, 7, 8, 9, 10]"
            ]
          },
          "metadata": {
            "tags": []
          },
          "execution_count": 23
        }
      ]
    },
    {
      "cell_type": "code",
      "metadata": {
        "colab": {
          "base_uri": "https://localhost:8080/"
        },
        "id": "v45A_Cv57PpS",
        "outputId": "c662d0e3-d030-4f93-b05f-64ef0c4625e8"
      },
      "source": [
        "min([1, 2, 3, 4, 5])"
      ],
      "execution_count": null,
      "outputs": [
        {
          "output_type": "execute_result",
          "data": {
            "text/plain": [
              "1"
            ]
          },
          "metadata": {
            "tags": []
          },
          "execution_count": 74
        }
      ]
    },
    {
      "cell_type": "code",
      "metadata": {
        "colab": {
          "base_uri": "https://localhost:8080/"
        },
        "id": "Si714EXv7alo",
        "outputId": "fba233ef-5a12-4e07-ebea-d1d67e0edc27"
      },
      "source": [
        "max([1, 2, 3, 4, 5])"
      ],
      "execution_count": null,
      "outputs": [
        {
          "output_type": "execute_result",
          "data": {
            "text/plain": [
              "5"
            ]
          },
          "metadata": {
            "tags": []
          },
          "execution_count": 75
        }
      ]
    },
    {
      "cell_type": "code",
      "metadata": {
        "id": "-RRV6Tti7dEo",
        "colab": {
          "base_uri": "https://localhost:8080/"
        },
        "outputId": "0f7ebe3f-24d8-4739-fa02-57014b6a70f7"
      },
      "source": [
        "sum([1,2,3,4,5])  # 리스트의 모든 원소들의 합을 반환"
      ],
      "execution_count": null,
      "outputs": [
        {
          "output_type": "execute_result",
          "data": {
            "text/plain": [
              "15"
            ]
          },
          "metadata": {
            "tags": []
          },
          "execution_count": 24
        }
      ]
    },
    {
      "cell_type": "code",
      "metadata": {
        "colab": {
          "base_uri": "https://localhost:8080/"
        },
        "id": "l_PWOACQhqR8",
        "outputId": "edc2a9f3-68bc-4fa0-82d7-23ad365c2d7a"
      },
      "source": [
        "round(4.6)  # 반올림"
      ],
      "execution_count": 4,
      "outputs": [
        {
          "output_type": "execute_result",
          "data": {
            "text/plain": [
              "5"
            ]
          },
          "metadata": {},
          "execution_count": 4
        }
      ]
    },
    {
      "cell_type": "code",
      "metadata": {
        "colab": {
          "base_uri": "https://localhost:8080/"
        },
        "id": "lo0h7WMQhuRt",
        "outputId": "addadb2e-6656-4fb1-ff5b-f317cb9c7436"
      },
      "source": [
        "round(4.2)"
      ],
      "execution_count": 5,
      "outputs": [
        {
          "output_type": "execute_result",
          "data": {
            "text/plain": [
              "4"
            ]
          },
          "metadata": {},
          "execution_count": 5
        }
      ]
    },
    {
      "cell_type": "code",
      "metadata": {
        "id": "o4X6i6NB7gR_",
        "colab": {
          "base_uri": "https://localhost:8080/"
        },
        "outputId": "2cdc7031-666e-4b42-9138-15adb7a594cd"
      },
      "source": [
        "round(3.141592, 2)  # 두번째 매개변수의 값만큼 소수점 아래 두번째자리까지 반올림해줌"
      ],
      "execution_count": null,
      "outputs": [
        {
          "output_type": "execute_result",
          "data": {
            "text/plain": [
              "3.14"
            ]
          },
          "metadata": {
            "tags": []
          },
          "execution_count": 26
        }
      ]
    },
    {
      "cell_type": "code",
      "metadata": {
        "colab": {
          "base_uri": "https://localhost:8080/"
        },
        "id": "wkaGOm6s8vDY",
        "outputId": "9b4fb758-76ba-4f54-f8f3-d705e7dff727"
      },
      "source": [
        "round(314, -2)  # 음수를 넣으면 10의 자리수도 반올림 가능"
      ],
      "execution_count": null,
      "outputs": [
        {
          "output_type": "execute_result",
          "data": {
            "text/plain": [
              "300"
            ]
          },
          "metadata": {
            "tags": []
          },
          "execution_count": 82
        }
      ]
    },
    {
      "cell_type": "code",
      "metadata": {
        "colab": {
          "base_uri": "https://localhost:8080/"
        },
        "id": "1PKZRHGJib4B",
        "outputId": "643426ab-7234-4403-eb7e-423ab6adb86e"
      },
      "source": [
        "round(313, -1)"
      ],
      "execution_count": 11,
      "outputs": [
        {
          "output_type": "execute_result",
          "data": {
            "text/plain": [
              "310"
            ]
          },
          "metadata": {},
          "execution_count": 11
        }
      ]
    },
    {
      "cell_type": "code",
      "metadata": {
        "id": "ctDchwk4Im-V",
        "colab": {
          "base_uri": "https://localhost:8080/"
        },
        "outputId": "b3ff5b55-b9f3-4354-8def-d6e14285826b"
      },
      "source": [
        "sorted([1,4,3,2]) # 정렬된 값을 반환하는 내장함수"
      ],
      "execution_count": 3,
      "outputs": [
        {
          "output_type": "execute_result",
          "data": {
            "text/plain": [
              "[1, 2, 3, 4]"
            ]
          },
          "metadata": {},
          "execution_count": 3
        }
      ]
    },
    {
      "cell_type": "code",
      "metadata": {
        "id": "_cUIYtdIIm29"
      },
      "source": [
        "a = [1,2,3,4]\n",
        "a.sort()  # 리스트 전용 함수"
      ],
      "execution_count": 6,
      "outputs": []
    },
    {
      "cell_type": "code",
      "metadata": {
        "colab": {
          "base_uri": "https://localhost:8080/",
          "height": 35
        },
        "id": "eMbIi2cEh2dU",
        "outputId": "903f8ca1-6eb1-465a-b845-20b4564ba045"
      },
      "source": [
        "str(5)  # 문자열로 타입 변환"
      ],
      "execution_count": 7,
      "outputs": [
        {
          "output_type": "execute_result",
          "data": {
            "application/vnd.google.colaboratory.intrinsic+json": {
              "type": "string"
            },
            "text/plain": [
              "'5'"
            ]
          },
          "metadata": {},
          "execution_count": 7
        }
      ]
    },
    {
      "cell_type": "code",
      "metadata": {
        "colab": {
          "base_uri": "https://localhost:8080/"
        },
        "id": "bj4GqoY8h1gO",
        "outputId": "64edc04b-2ab1-4496-9b2a-52d23dbab3c6"
      },
      "source": [
        "type('aaa') # 타입이 뭔지 확인"
      ],
      "execution_count": 8,
      "outputs": [
        {
          "output_type": "execute_result",
          "data": {
            "text/plain": [
              "str"
            ]
          },
          "metadata": {},
          "execution_count": 8
        }
      ]
    },
    {
      "cell_type": "code",
      "metadata": {
        "colab": {
          "base_uri": "https://localhost:8080/"
        },
        "id": "stH1m0bN7hEd",
        "outputId": "3c1bcc5c-5bd4-4604-9bca-42f7ad7bff6f"
      },
      "source": [
        "type([])"
      ],
      "execution_count": 9,
      "outputs": [
        {
          "output_type": "execute_result",
          "data": {
            "text/plain": [
              "list"
            ]
          },
          "metadata": {},
          "execution_count": 9
        }
      ]
    },
    {
      "cell_type": "code",
      "metadata": {
        "colab": {
          "base_uri": "https://localhost:8080/"
        },
        "id": "Cm2rum6b7m4v",
        "outputId": "6d2fc9c1-c710-44c0-e5eb-53fd72478454"
      },
      "source": [
        "a = [1,2,3,4]\n",
        "b = [5,6,7,8]\n",
        "\n",
        "for i, j in zip(a,b): # 리스트를 한번에 묶어줌\n",
        "  print(i,j)"
      ],
      "execution_count": null,
      "outputs": [
        {
          "output_type": "stream",
          "text": [
            "1 5\n",
            "2 6\n",
            "3 7\n",
            "4 8\n"
          ],
          "name": "stdout"
        }
      ]
    },
    {
      "cell_type": "code",
      "metadata": {
        "id": "nfbscEDU88s9"
      },
      "source": [
        ""
      ],
      "execution_count": null,
      "outputs": []
    }
  ]
}